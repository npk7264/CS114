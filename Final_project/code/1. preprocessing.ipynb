{
  "nbformat": 4,
  "nbformat_minor": 0,
  "metadata": {
    "colab": {
      "provenance": [],
      "collapsed_sections": [
        "nh04a1HQDN1V",
        "jUBFk_5aDRvO",
        "GqVpXudSgkUC",
        "iBrIpFsYe7Lc",
        "ANy99lkMe_nz",
        "n8DGRxKIh6O4",
        "xpU3AvpTh8Bn"
      ],
      "toc_visible": true
    },
    "kernelspec": {
      "name": "python3",
      "display_name": "Python 3"
    },
    "language_info": {
      "name": "python"
    }
  },
  "cells": [
    {
      "cell_type": "code",
      "source": [
        "from google.colab import drive\n",
        "drive.mount(\"/content/drive\")"
      ],
      "metadata": {
        "colab": {
          "base_uri": "https://localhost:8080/"
        },
        "id": "AiqzxxJL9TbP",
        "outputId": "783b832f-8a71-49fe-8411-bced80e1b82f"
      },
      "execution_count": 1,
      "outputs": [
        {
          "output_type": "stream",
          "name": "stdout",
          "text": [
            "Mounted at /content/drive\n"
          ]
        }
      ]
    },
    {
      "cell_type": "code",
      "execution_count": 2,
      "metadata": {
        "id": "yyCVNmJN8DAt"
      },
      "outputs": [],
      "source": [
        "import numpy as np\n",
        "import pandas as pd\n",
        "import matplotlib.pyplot as plt\n",
        "import seaborn as sb\n",
        "import os\n",
        "import math"
      ]
    },
    {
      "cell_type": "markdown",
      "source": [
        "# Load data"
      ],
      "metadata": {
        "id": "d5jcyw0aBqL3"
      }
    },
    {
      "cell_type": "code",
      "source": [
        "path = \"/content/drive/MyDrive/ML/Final_Project/1. data_raw/\"\n",
        "data = pd.DataFrame()\n",
        "for file in os.listdir(path):\n",
        "    df = pd.read_excel(path+file)\n",
        "    data = pd.concat([data, df])"
      ],
      "metadata": {
        "id": "9bMXiuHg8bFP"
      },
      "execution_count": 86,
      "outputs": []
    },
    {
      "cell_type": "code",
      "source": [
        "data"
      ],
      "metadata": {
        "colab": {
          "base_uri": "https://localhost:8080/",
          "height": 423
        },
        "id": "z_lQwNgpA_j0",
        "outputId": "aa66ac65-813f-4825-fe8b-d6a51d661315"
      },
      "execution_count": 87,
      "outputs": [
        {
          "output_type": "execute_result",
          "data": {
            "text/plain": [
              "      Rate                                             Review  Label\n",
              "0      9.0  Khu ẩm thực với đa dạng đồ lại còn bày trí đẹp...      1\n",
              "1      9.0  Lúc nào đến aeon là lúc đấy phải tống một đống...      1\n",
              "2     10.0  Bánh ngon lại rẻ chê đâu được gần hết các loại...      1\n",
              "3      9.0                                            Ngon rẻ      1\n",
              "4      9,6  Tôi sắp chết vì ngập trong sushi mấttttt Lên h...      1\n",
              "...    ...                                                ...    ...\n",
              "3372   2.8  Mình gọi 3 phần như hình, cơm trộn, tobokki, c...     -1\n",
              "3373   6.0  Vị trí dễ tìm\\nNhân viên bình thường\\nĐồ ăn kh...     -1\n",
              "3374   5.0  Mình tìm quán này trên Foody thầy cmt nói khá ...     -1\n",
              "3375   6.2  Mình với mấy đứa bạn vừa thi xong là phi ra ng...     -1\n",
              "3376   1.0  1 dĩa có xíu đồ ăn không đủ xứng đáng với giá ...     -1\n",
              "\n",
              "[11494 rows x 3 columns]"
            ],
            "text/html": [
              "\n",
              "  <div id=\"df-3592d409-3ba5-4318-b017-c36beb289f75\">\n",
              "    <div class=\"colab-df-container\">\n",
              "      <div>\n",
              "<style scoped>\n",
              "    .dataframe tbody tr th:only-of-type {\n",
              "        vertical-align: middle;\n",
              "    }\n",
              "\n",
              "    .dataframe tbody tr th {\n",
              "        vertical-align: top;\n",
              "    }\n",
              "\n",
              "    .dataframe thead th {\n",
              "        text-align: right;\n",
              "    }\n",
              "</style>\n",
              "<table border=\"1\" class=\"dataframe\">\n",
              "  <thead>\n",
              "    <tr style=\"text-align: right;\">\n",
              "      <th></th>\n",
              "      <th>Rate</th>\n",
              "      <th>Review</th>\n",
              "      <th>Label</th>\n",
              "    </tr>\n",
              "  </thead>\n",
              "  <tbody>\n",
              "    <tr>\n",
              "      <th>0</th>\n",
              "      <td>9.0</td>\n",
              "      <td>Khu ẩm thực với đa dạng đồ lại còn bày trí đẹp...</td>\n",
              "      <td>1</td>\n",
              "    </tr>\n",
              "    <tr>\n",
              "      <th>1</th>\n",
              "      <td>9.0</td>\n",
              "      <td>Lúc nào đến aeon là lúc đấy phải tống một đống...</td>\n",
              "      <td>1</td>\n",
              "    </tr>\n",
              "    <tr>\n",
              "      <th>2</th>\n",
              "      <td>10.0</td>\n",
              "      <td>Bánh ngon lại rẻ chê đâu được gần hết các loại...</td>\n",
              "      <td>1</td>\n",
              "    </tr>\n",
              "    <tr>\n",
              "      <th>3</th>\n",
              "      <td>9.0</td>\n",
              "      <td>Ngon rẻ</td>\n",
              "      <td>1</td>\n",
              "    </tr>\n",
              "    <tr>\n",
              "      <th>4</th>\n",
              "      <td>9,6</td>\n",
              "      <td>Tôi sắp chết vì ngập trong sushi mấttttt Lên h...</td>\n",
              "      <td>1</td>\n",
              "    </tr>\n",
              "    <tr>\n",
              "      <th>...</th>\n",
              "      <td>...</td>\n",
              "      <td>...</td>\n",
              "      <td>...</td>\n",
              "    </tr>\n",
              "    <tr>\n",
              "      <th>3372</th>\n",
              "      <td>2.8</td>\n",
              "      <td>Mình gọi 3 phần như hình, cơm trộn, tobokki, c...</td>\n",
              "      <td>-1</td>\n",
              "    </tr>\n",
              "    <tr>\n",
              "      <th>3373</th>\n",
              "      <td>6.0</td>\n",
              "      <td>Vị trí dễ tìm\\nNhân viên bình thường\\nĐồ ăn kh...</td>\n",
              "      <td>-1</td>\n",
              "    </tr>\n",
              "    <tr>\n",
              "      <th>3374</th>\n",
              "      <td>5.0</td>\n",
              "      <td>Mình tìm quán này trên Foody thầy cmt nói khá ...</td>\n",
              "      <td>-1</td>\n",
              "    </tr>\n",
              "    <tr>\n",
              "      <th>3375</th>\n",
              "      <td>6.2</td>\n",
              "      <td>Mình với mấy đứa bạn vừa thi xong là phi ra ng...</td>\n",
              "      <td>-1</td>\n",
              "    </tr>\n",
              "    <tr>\n",
              "      <th>3376</th>\n",
              "      <td>1.0</td>\n",
              "      <td>1 dĩa có xíu đồ ăn không đủ xứng đáng với giá ...</td>\n",
              "      <td>-1</td>\n",
              "    </tr>\n",
              "  </tbody>\n",
              "</table>\n",
              "<p>11494 rows × 3 columns</p>\n",
              "</div>\n",
              "      <button class=\"colab-df-convert\" onclick=\"convertToInteractive('df-3592d409-3ba5-4318-b017-c36beb289f75')\"\n",
              "              title=\"Convert this dataframe to an interactive table.\"\n",
              "              style=\"display:none;\">\n",
              "        \n",
              "  <svg xmlns=\"http://www.w3.org/2000/svg\" height=\"24px\"viewBox=\"0 0 24 24\"\n",
              "       width=\"24px\">\n",
              "    <path d=\"M0 0h24v24H0V0z\" fill=\"none\"/>\n",
              "    <path d=\"M18.56 5.44l.94 2.06.94-2.06 2.06-.94-2.06-.94-.94-2.06-.94 2.06-2.06.94zm-11 1L8.5 8.5l.94-2.06 2.06-.94-2.06-.94L8.5 2.5l-.94 2.06-2.06.94zm10 10l.94 2.06.94-2.06 2.06-.94-2.06-.94-.94-2.06-.94 2.06-2.06.94z\"/><path d=\"M17.41 7.96l-1.37-1.37c-.4-.4-.92-.59-1.43-.59-.52 0-1.04.2-1.43.59L10.3 9.45l-7.72 7.72c-.78.78-.78 2.05 0 2.83L4 21.41c.39.39.9.59 1.41.59.51 0 1.02-.2 1.41-.59l7.78-7.78 2.81-2.81c.8-.78.8-2.07 0-2.86zM5.41 20L4 18.59l7.72-7.72 1.47 1.35L5.41 20z\"/>\n",
              "  </svg>\n",
              "      </button>\n",
              "      \n",
              "  <style>\n",
              "    .colab-df-container {\n",
              "      display:flex;\n",
              "      flex-wrap:wrap;\n",
              "      gap: 12px;\n",
              "    }\n",
              "\n",
              "    .colab-df-convert {\n",
              "      background-color: #E8F0FE;\n",
              "      border: none;\n",
              "      border-radius: 50%;\n",
              "      cursor: pointer;\n",
              "      display: none;\n",
              "      fill: #1967D2;\n",
              "      height: 32px;\n",
              "      padding: 0 0 0 0;\n",
              "      width: 32px;\n",
              "    }\n",
              "\n",
              "    .colab-df-convert:hover {\n",
              "      background-color: #E2EBFA;\n",
              "      box-shadow: 0px 1px 2px rgba(60, 64, 67, 0.3), 0px 1px 3px 1px rgba(60, 64, 67, 0.15);\n",
              "      fill: #174EA6;\n",
              "    }\n",
              "\n",
              "    [theme=dark] .colab-df-convert {\n",
              "      background-color: #3B4455;\n",
              "      fill: #D2E3FC;\n",
              "    }\n",
              "\n",
              "    [theme=dark] .colab-df-convert:hover {\n",
              "      background-color: #434B5C;\n",
              "      box-shadow: 0px 1px 3px 1px rgba(0, 0, 0, 0.15);\n",
              "      filter: drop-shadow(0px 1px 2px rgba(0, 0, 0, 0.3));\n",
              "      fill: #FFFFFF;\n",
              "    }\n",
              "  </style>\n",
              "\n",
              "      <script>\n",
              "        const buttonEl =\n",
              "          document.querySelector('#df-3592d409-3ba5-4318-b017-c36beb289f75 button.colab-df-convert');\n",
              "        buttonEl.style.display =\n",
              "          google.colab.kernel.accessAllowed ? 'block' : 'none';\n",
              "\n",
              "        async function convertToInteractive(key) {\n",
              "          const element = document.querySelector('#df-3592d409-3ba5-4318-b017-c36beb289f75');\n",
              "          const dataTable =\n",
              "            await google.colab.kernel.invokeFunction('convertToInteractive',\n",
              "                                                     [key], {});\n",
              "          if (!dataTable) return;\n",
              "\n",
              "          const docLinkHtml = 'Like what you see? Visit the ' +\n",
              "            '<a target=\"_blank\" href=https://colab.research.google.com/notebooks/data_table.ipynb>data table notebook</a>'\n",
              "            + ' to learn more about interactive tables.';\n",
              "          element.innerHTML = '';\n",
              "          dataTable['output_type'] = 'display_data';\n",
              "          await google.colab.output.renderOutput(dataTable, element);\n",
              "          const docLink = document.createElement('div');\n",
              "          docLink.innerHTML = docLinkHtml;\n",
              "          element.appendChild(docLink);\n",
              "        }\n",
              "      </script>\n",
              "    </div>\n",
              "  </div>\n",
              "  "
            ]
          },
          "metadata": {},
          "execution_count": 87
        }
      ]
    },
    {
      "cell_type": "code",
      "source": [
        "data.isna().sum()"
      ],
      "metadata": {
        "colab": {
          "base_uri": "https://localhost:8080/"
        },
        "id": "fGhfdV2jBXY4",
        "outputId": "57f1834c-f076-413a-d011-2874b9652a7d"
      },
      "execution_count": 5,
      "outputs": [
        {
          "output_type": "execute_result",
          "data": {
            "text/plain": [
              "Rate      0\n",
              "Review    0\n",
              "Label     0\n",
              "dtype: int64"
            ]
          },
          "metadata": {},
          "execution_count": 5
        }
      ]
    },
    {
      "cell_type": "markdown",
      "source": [
        "# Trực quan hóa"
      ],
      "metadata": {
        "id": "qbJoDpJMCJaq"
      }
    },
    {
      "cell_type": "markdown",
      "source": [
        "## 1. Thống kê lớp"
      ],
      "metadata": {
        "id": "nh04a1HQDN1V"
      }
    },
    {
      "cell_type": "code",
      "source": [
        "plt.figure(figsize=(5,3))\n",
        "sb.countplot(data=data, x=\"Label\").set_title('Thống kê dữ liệu')\n",
        "plt.show()"
      ],
      "metadata": {
        "colab": {
          "base_uri": "https://localhost:8080/",
          "height": 335
        },
        "id": "BAp0UMCCCMIP",
        "outputId": "4cbd2796-9b6a-463d-af22-062b8cbaa5a1"
      },
      "execution_count": 88,
      "outputs": [
        {
          "output_type": "display_data",
          "data": {
            "text/plain": [
              "<Figure size 500x300 with 1 Axes>"
            ],
            "image/png": "[encoded data removed]"
          },
          "metadata": {}
        }
      ]
    },
    {
      "cell_type": "markdown",
      "source": [
        "## 2. Thống kê từ trước khi tiền xử lí"
      ],
      "metadata": {
        "id": "jUBFk_5aDRvO"
      }
    },
    {
      "cell_type": "code",
      "source": [
        "def sentence_len(text):\n",
        "  return len(text.split(' '));\n",
        "\n",
        "df_len_headline = data[\"Review\"].apply(lambda text: sentence_len(text))\n",
        "print('Độ dài trung bình của bình luận trong bộ dữ liệu:', int(np.mean(df_len_headline)), 'từ')"
      ],
      "metadata": {
        "colab": {
          "base_uri": "https://localhost:8080/"
        },
        "id": "i1plnSxwCvy_",
        "outputId": "f5830e22-3e09-4cac-d98b-b115a6a46fba"
      },
      "execution_count": 89,
      "outputs": [
        {
          "output_type": "stream",
          "name": "stdout",
          "text": [
            "Độ dài trung bình của bình luận trong bộ dữ liệu: 69 từ\n"
          ]
        }
      ]
    },
    {
      "cell_type": "code",
      "source": [
        "plt.figure(figsize=(10, 5))\n",
        "plt.title(\"Thống kê số từ trong bình luận\")\n",
        "plt.xlabel('Số từ')\n",
        "plt.ylabel('Số bình luận')\n",
        "plt.hist(np.array(df_len_headline), bins=int(math.sqrt(len(df_len_headline))));"
      ],
      "metadata": {
        "colab": {
          "base_uri": "https://localhost:8080/",
          "height": 489
        },
        "id": "ed-9hBzqC3KY",
        "outputId": "b665c779-8504-40f9-842f-7787205c23a0"
      },
      "execution_count": 90,
      "outputs": [
        {
          "output_type": "display_data",
          "data": {
            "text/plain": [
              "<Figure size 1000x500 with 1 Axes>"
            ],
            "image/png": "[encoded data removed]"
          },
          "metadata": {}
        }
      ]
    },
    {
      "cell_type": "markdown",
      "source": [
        "# Tiền xử lí"
      ],
      "metadata": {
        "id": "WD6TOsfhCBVu"
      }
    },
    {
      "cell_type": "code",
      "source": [
        "!pip install underthesea"
      ],
      "metadata": {
        "id": "mj74UA7lcagV"
      },
      "execution_count": null,
      "outputs": []
    },
    {
      "cell_type": "code",
      "source": [
        "import regex as re\n",
        "import underthesea"
      ],
      "metadata": {
        "id": "ZK35eCN36a_z"
      },
      "execution_count": 19,
      "outputs": []
    },
    {
      "cell_type": "markdown",
      "source": [
        "## 1. Xóa HTML tag"
      ],
      "metadata": {
        "id": "QITq2K87Dw7B"
      }
    },
    {
      "cell_type": "code",
      "source": [
        "def remove_html(text):\n",
        "  return re.sub(r'<[^>]*>', '', text)\n",
        "\n",
        "print(remove_html(\"<h1>Title</h1>\"))"
      ],
      "metadata": {
        "colab": {
          "base_uri": "https://localhost:8080/"
        },
        "id": "JVfLqVUlDnm6",
        "outputId": "cd032b7c-8750-457f-a752-ecc85b8d7f39"
      },
      "execution_count": 8,
      "outputs": [
        {
          "output_type": "stream",
          "name": "stdout",
          "text": [
            "Title\n"
          ]
        }
      ]
    },
    {
      "cell_type": "markdown",
      "source": [
        "## 2. Đánh dấu spam URL"
      ],
      "metadata": {
        "id": "f9TM-XEjKxFf"
      }
    },
    {
      "cell_type": "code",
      "source": [
        "def check_url(text):\n",
        "    pattern = re.compile(r'(http|https)://[^\\s]+')\n",
        "    match = pattern.search(text)\n",
        "    if match:\n",
        "        return True\n",
        "    else:\n",
        "        return False"
      ],
      "metadata": {
        "id": "fm6nKmXgKznc"
      },
      "execution_count": 9,
      "outputs": []
    },
    {
      "cell_type": "code",
      "source": [
        "data.drop(data[data['Review'].apply(check_url)].index, inplace=True)\n",
        "data.shape"
      ],
      "metadata": {
        "id": "xJNPhyL1NWy5",
        "colab": {
          "base_uri": "https://localhost:8080/"
        },
        "outputId": "c4ec6e74-49b9-4ab9-99bc-313a4139e35b"
      },
      "execution_count": 10,
      "outputs": [
        {
          "output_type": "execute_result",
          "data": {
            "text/plain": [
              "(11488, 3)"
            ]
          },
          "metadata": {},
          "execution_count": 10
        }
      ]
    },
    {
      "cell_type": "markdown",
      "source": [
        "## 3. Chuẩn hóa dấu câu"
      ],
      "metadata": {
        "id": "jT60rlGDD3Th"
      }
    },
    {
      "cell_type": "code",
      "source": [
        "from underthesea import text_normalize\n",
        "def convert_unicode(txt):\n",
        "  return text_normalize(txt)\n",
        "\n",
        "print(convert_unicode(\"Ðảm baỏ chất lựơng phòng thí nghịêm hoá học\"))"
      ],
      "metadata": {
        "id": "yeKObStED22q",
        "colab": {
          "base_uri": "https://localhost:8080/"
        },
        "outputId": "f73c5ead-e40c-4358-a159-9e4d2294696f"
      },
      "execution_count": 11,
      "outputs": [
        {
          "output_type": "stream",
          "name": "stdout",
          "text": [
            "Đảm bảo chất lượng phòng thí nghiệm hóa học\n"
          ]
        }
      ]
    },
    {
      "cell_type": "markdown",
      "source": [
        "## 4. Đưa về dạng viết thường"
      ],
      "metadata": {
        "id": "io5AGZ-fEQRa"
      }
    },
    {
      "cell_type": "code",
      "source": [
        "def to_lower_case(sentence):\n",
        "    sentence = sentence.lower()\n",
        "    return sentence\n",
        "\n",
        "print(to_lower_case('Tôi là dân IT!'))"
      ],
      "metadata": {
        "colab": {
          "base_uri": "https://localhost:8080/"
        },
        "id": "uiH7QsDtEPnT",
        "outputId": "918b3ad9-771e-4ec3-a580-4cd81b11d7ff"
      },
      "execution_count": 12,
      "outputs": [
        {
          "output_type": "stream",
          "name": "stdout",
          "text": [
            "tôi là dân it!\n"
          ]
        }
      ]
    },
    {
      "cell_type": "markdown",
      "source": [
        "## 5. Xóa các ký tự không cần thiết"
      ],
      "metadata": {
        "id": "D6irhgl8EkRq"
      }
    },
    {
      "cell_type": "code",
      "source": [
        "def remove_unnecessary_charactor(document):\n",
        "    # xóa các ký tự đặc biệt, emoji\n",
        "    document = re.sub(r'[^\\s\\wáàảãạăắằẳẵặâấầẩẫậéèẻẽẹêếềểễệóòỏõọôốồổỗộơớờởỡợíìỉĩịúùủũụưứừửữựýỳỷỹỵđ_]',' ',document)\n",
        "    # xóa kí tự chứa số\n",
        "    document = re.sub(r'\\w*\\d\\w*', '', document).strip()\n",
        "    # xóa khoảng trắng thừa\n",
        "    document = re.sub(r'\\s+', ' ', document).strip()\n",
        "    return document\n",
        "\n",
        "document = 'Biết 1505 là gì không? 😆'\n",
        "remove_unnecessary_charactor(document)"
      ],
      "metadata": {
        "colab": {
          "base_uri": "https://localhost:8080/",
          "height": 36
        },
        "id": "rFYIiEusEX7h",
        "outputId": "949c870b-ac63-4fbc-a0af-a1e8c462a17f"
      },
      "execution_count": 22,
      "outputs": [
        {
          "output_type": "execute_result",
          "data": {
            "text/plain": [
              "'Biết l à gì không'"
            ],
            "application/vnd.google.colaboratory.intrinsic+json": {
              "type": "string"
            }
          },
          "metadata": {},
          "execution_count": 22
        }
      ]
    },
    {
      "cell_type": "markdown",
      "source": [
        "## 6. Tách từ tiếng Việt"
      ],
      "metadata": {
        "id": "AAQffLJ7GLdl"
      }
    },
    {
      "cell_type": "code",
      "source": [
        "from underthesea import word_tokenize\n",
        "\n",
        "sentence = 'Xin chào, rất vui được làm quen, tôi đến từ đất nước Việt Nam!'\n",
        "print(word_tokenize(sentence))\n",
        "print(word_tokenize(sentence, format='text'))"
      ],
      "metadata": {
        "colab": {
          "base_uri": "https://localhost:8080/"
        },
        "id": "dJjrSY_jGRTl",
        "outputId": "86fa2704-8ed8-433d-accf-7e3b5d1d46a0"
      },
      "execution_count": 14,
      "outputs": [
        {
          "output_type": "stream",
          "name": "stdout",
          "text": [
            "['Xin', 'chào', ',', 'rất', 'vui', 'được', 'làm quen', ',', 'tôi', 'đến', 'từ', 'đất nước', 'Việt Nam', '!']\n",
            "Xin chào , rất vui được làm_quen , tôi đến từ đất_nước Việt_Nam !\n"
          ]
        }
      ]
    },
    {
      "cell_type": "markdown",
      "source": [
        "## 7. Chuẩn hóa những từ lặp âm tiết"
      ],
      "metadata": {
        "id": "GqVpXudSgkUC"
      }
    },
    {
      "cell_type": "code",
      "source": [
        "def remove_duplicate_characters(text):\n",
        "    pattern = re.compile(r'(\\w)\\1{2,}')\n",
        "    text = pattern.sub(r'\\1', text)\n",
        "    return text\n",
        "\n",
        "print(remove_duplicate_characters(\"Trà sữa ngon nhân viên bán hàng nhiệt tình! Likeeeeeee!\"))"
      ],
      "metadata": {
        "colab": {
          "base_uri": "https://localhost:8080/"
        },
        "id": "jSZuWmN0glvW",
        "outputId": "cde785fe-c7e9-427e-907f-cd50c7bfd13d"
      },
      "execution_count": 15,
      "outputs": [
        {
          "output_type": "stream",
          "name": "stdout",
          "text": [
            "Trà sữa ngon nhân viên bán hàng nhiệt tình! Like!\n"
          ]
        }
      ]
    },
    {
      "cell_type": "markdown",
      "source": [
        "## 8. Tổng hợp 1"
      ],
      "metadata": {
        "id": "KTuT9-YOgss1"
      }
    },
    {
      "cell_type": "code",
      "source": [
        "def text_preprocessing(document):\n",
        "  document = remove_html(document)\n",
        "  document = convert_unicode(document)\n",
        "  document = to_lower_case(document)\n",
        "  document = remove_unnecessary_charactor(document)\n",
        "  document = word_tokenize(document, format='text')\n",
        "  document = remove_duplicate_characters(document)\n",
        "  document = re.sub(r'\\s+', ' ', document).strip() # xóa khoảng trắng thừa\n",
        "  return document\n",
        "\n",
        "text_preprocessing('theo nghị định đã ban hành, người dân cần ở trong nhà đến hết ngày 16/9.')"
      ],
      "metadata": {
        "colab": {
          "base_uri": "https://localhost:8080/",
          "height": 36
        },
        "id": "5OsZTpnpgvWW",
        "outputId": "bc78ccd4-b27d-47b0-f12e-6c1c8d10282b"
      },
      "execution_count": 16,
      "outputs": [
        {
          "output_type": "execute_result",
          "data": {
            "text/plain": [
              "'theo nghị_định đã ban_hành người dân cần ở trong nhà đến hết ngày'"
            ],
            "application/vnd.google.colaboratory.intrinsic+json": {
              "type": "string"
            }
          },
          "metadata": {},
          "execution_count": 16
        }
      ]
    },
    {
      "cell_type": "code",
      "source": [
        "data[\"Preprocess_Review\"] = data[\"Review\"].apply(lambda x: text_preprocessing(x))\n",
        "data"
      ],
      "metadata": {
        "colab": {
          "base_uri": "https://localhost:8080/",
          "height": 423
        },
        "id": "K-foxmsdg6ww",
        "outputId": "8d61e488-3125-460e-9412-6f658240d66a"
      },
      "execution_count": 91,
      "outputs": [
        {
          "output_type": "execute_result",
          "data": {
            "text/plain": [
              "      Rate                                             Review  Label  \\\n",
              "0      9.0  Khu ẩm thực với đa dạng đồ lại còn bày trí đẹp...      1   \n",
              "1      9.0  Lúc nào đến aeon là lúc đấy phải tống một đống...      1   \n",
              "2     10.0  Bánh ngon lại rẻ chê đâu được gần hết các loại...      1   \n",
              "3      9.0                                            Ngon rẻ      1   \n",
              "4      9,6  Tôi sắp chết vì ngập trong sushi mấttttt Lên h...      1   \n",
              "...    ...                                                ...    ...   \n",
              "3372   2.8  Mình gọi 3 phần như hình, cơm trộn, tobokki, c...     -1   \n",
              "3373   6.0  Vị trí dễ tìm\\nNhân viên bình thường\\nĐồ ăn kh...     -1   \n",
              "3374   5.0  Mình tìm quán này trên Foody thầy cmt nói khá ...     -1   \n",
              "3375   6.2  Mình với mấy đứa bạn vừa thi xong là phi ra ng...     -1   \n",
              "3376   1.0  1 dĩa có xíu đồ ăn không đủ xứng đáng với giá ...     -1   \n",
              "\n",
              "                                      Preprocess_Review  \n",
              "0     khu ẩm_thực với đa_dạng đồ lại còn bày trí đẹp...  \n",
              "1     lúc nào đến aeon là lúc đấy phải tống một đống...  \n",
              "2     bánh ngon lại rẻ chê đâu được gần hết các loại...  \n",
              "3                                               ngon rẻ  \n",
              "4     tôi sắp chết vì ngập trong sushi mất lên hà_nộ...  \n",
              "...                                                 ...  \n",
              "3372  mình gọi phần như hình cơm trộn tobokki canh k...  \n",
              "3373  vị_trí dễ tìm nhân_viên bình_thường đồ ăn khôn...  \n",
              "3374  mình tìm quán này trên foody thầy cmt nói khá ...  \n",
              "3375  mình với mấy đứa bạn vừa thi xong là phi ra ng...  \n",
              "3376  dĩa có xíu đồ ăn không đủ xứng_đáng với giá ti...  \n",
              "\n",
              "[11494 rows x 4 columns]"
            ],
            "text/html": [
              "\n",
              "  <div id=\"df-73ab6b2b-5867-4fb3-bc62-ae4c48f2df07\">\n",
              "    <div class=\"colab-df-container\">\n",
              "      <div>\n",
              "<style scoped>\n",
              "    .dataframe tbody tr th:only-of-type {\n",
              "        vertical-align: middle;\n",
              "    }\n",
              "\n",
              "    .dataframe tbody tr th {\n",
              "        vertical-align: top;\n",
              "    }\n",
              "\n",
              "    .dataframe thead th {\n",
              "        text-align: right;\n",
              "    }\n",
              "</style>\n",
              "<table border=\"1\" class=\"dataframe\">\n",
              "  <thead>\n",
              "    <tr style=\"text-align: right;\">\n",
              "      <th></th>\n",
              "      <th>Rate</th>\n",
              "      <th>Review</th>\n",
              "      <th>Label</th>\n",
              "      <th>Preprocess_Review</th>\n",
              "    </tr>\n",
              "  </thead>\n",
              "  <tbody>\n",
              "    <tr>\n",
              "      <th>0</th>\n",
              "      <td>9.0</td>\n",
              "      <td>Khu ẩm thực với đa dạng đồ lại còn bày trí đẹp...</td>\n",
              "      <td>1</td>\n",
              "      <td>khu ẩm_thực với đa_dạng đồ lại còn bày trí đẹp...</td>\n",
              "    </tr>\n",
              "    <tr>\n",
              "      <th>1</th>\n",
              "      <td>9.0</td>\n",
              "      <td>Lúc nào đến aeon là lúc đấy phải tống một đống...</td>\n",
              "      <td>1</td>\n",
              "      <td>lúc nào đến aeon là lúc đấy phải tống một đống...</td>\n",
              "    </tr>\n",
              "    <tr>\n",
              "      <th>2</th>\n",
              "      <td>10.0</td>\n",
              "      <td>Bánh ngon lại rẻ chê đâu được gần hết các loại...</td>\n",
              "      <td>1</td>\n",
              "      <td>bánh ngon lại rẻ chê đâu được gần hết các loại...</td>\n",
              "    </tr>\n",
              "    <tr>\n",
              "      <th>3</th>\n",
              "      <td>9.0</td>\n",
              "      <td>Ngon rẻ</td>\n",
              "      <td>1</td>\n",
              "      <td>ngon rẻ</td>\n",
              "    </tr>\n",
              "    <tr>\n",
              "      <th>4</th>\n",
              "      <td>9,6</td>\n",
              "      <td>Tôi sắp chết vì ngập trong sushi mấttttt Lên h...</td>\n",
              "      <td>1</td>\n",
              "      <td>tôi sắp chết vì ngập trong sushi mất lên hà_nộ...</td>\n",
              "    </tr>\n",
              "    <tr>\n",
              "      <th>...</th>\n",
              "      <td>...</td>\n",
              "      <td>...</td>\n",
              "      <td>...</td>\n",
              "      <td>...</td>\n",
              "    </tr>\n",
              "    <tr>\n",
              "      <th>3372</th>\n",
              "      <td>2.8</td>\n",
              "      <td>Mình gọi 3 phần như hình, cơm trộn, tobokki, c...</td>\n",
              "      <td>-1</td>\n",
              "      <td>mình gọi phần như hình cơm trộn tobokki canh k...</td>\n",
              "    </tr>\n",
              "    <tr>\n",
              "      <th>3373</th>\n",
              "      <td>6.0</td>\n",
              "      <td>Vị trí dễ tìm\\nNhân viên bình thường\\nĐồ ăn kh...</td>\n",
              "      <td>-1</td>\n",
              "      <td>vị_trí dễ tìm nhân_viên bình_thường đồ ăn khôn...</td>\n",
              "    </tr>\n",
              "    <tr>\n",
              "      <th>3374</th>\n",
              "      <td>5.0</td>\n",
              "      <td>Mình tìm quán này trên Foody thầy cmt nói khá ...</td>\n",
              "      <td>-1</td>\n",
              "      <td>mình tìm quán này trên foody thầy cmt nói khá ...</td>\n",
              "    </tr>\n",
              "    <tr>\n",
              "      <th>3375</th>\n",
              "      <td>6.2</td>\n",
              "      <td>Mình với mấy đứa bạn vừa thi xong là phi ra ng...</td>\n",
              "      <td>-1</td>\n",
              "      <td>mình với mấy đứa bạn vừa thi xong là phi ra ng...</td>\n",
              "    </tr>\n",
              "    <tr>\n",
              "      <th>3376</th>\n",
              "      <td>1.0</td>\n",
              "      <td>1 dĩa có xíu đồ ăn không đủ xứng đáng với giá ...</td>\n",
              "      <td>-1</td>\n",
              "      <td>dĩa có xíu đồ ăn không đủ xứng_đáng với giá ti...</td>\n",
              "    </tr>\n",
              "  </tbody>\n",
              "</table>\n",
              "<p>11494 rows × 4 columns</p>\n",
              "</div>\n",
              "      <button class=\"colab-df-convert\" onclick=\"convertToInteractive('df-73ab6b2b-5867-4fb3-bc62-ae4c48f2df07')\"\n",
              "              title=\"Convert this dataframe to an interactive table.\"\n",
              "              style=\"display:none;\">\n",
              "        \n",
              "  <svg xmlns=\"http://www.w3.org/2000/svg\" height=\"24px\"viewBox=\"0 0 24 24\"\n",
              "       width=\"24px\">\n",
              "    <path d=\"M0 0h24v24H0V0z\" fill=\"none\"/>\n",
              "    <path d=\"M18.56 5.44l.94 2.06.94-2.06 2.06-.94-2.06-.94-.94-2.06-.94 2.06-2.06.94zm-11 1L8.5 8.5l.94-2.06 2.06-.94-2.06-.94L8.5 2.5l-.94 2.06-2.06.94zm10 10l.94 2.06.94-2.06 2.06-.94-2.06-.94-.94-2.06-.94 2.06-2.06.94z\"/><path d=\"M17.41 7.96l-1.37-1.37c-.4-.4-.92-.59-1.43-.59-.52 0-1.04.2-1.43.59L10.3 9.45l-7.72 7.72c-.78.78-.78 2.05 0 2.83L4 21.41c.39.39.9.59 1.41.59.51 0 1.02-.2 1.41-.59l7.78-7.78 2.81-2.81c.8-.78.8-2.07 0-2.86zM5.41 20L4 18.59l7.72-7.72 1.47 1.35L5.41 20z\"/>\n",
              "  </svg>\n",
              "      </button>\n",
              "      \n",
              "  <style>\n",
              "    .colab-df-container {\n",
              "      display:flex;\n",
              "      flex-wrap:wrap;\n",
              "      gap: 12px;\n",
              "    }\n",
              "\n",
              "    .colab-df-convert {\n",
              "      background-color: #E8F0FE;\n",
              "      border: none;\n",
              "      border-radius: 50%;\n",
              "      cursor: pointer;\n",
              "      display: none;\n",
              "      fill: #1967D2;\n",
              "      height: 32px;\n",
              "      padding: 0 0 0 0;\n",
              "      width: 32px;\n",
              "    }\n",
              "\n",
              "    .colab-df-convert:hover {\n",
              "      background-color: #E2EBFA;\n",
              "      box-shadow: 0px 1px 2px rgba(60, 64, 67, 0.3), 0px 1px 3px 1px rgba(60, 64, 67, 0.15);\n",
              "      fill: #174EA6;\n",
              "    }\n",
              "\n",
              "    [theme=dark] .colab-df-convert {\n",
              "      background-color: #3B4455;\n",
              "      fill: #D2E3FC;\n",
              "    }\n",
              "\n",
              "    [theme=dark] .colab-df-convert:hover {\n",
              "      background-color: #434B5C;\n",
              "      box-shadow: 0px 1px 3px 1px rgba(0, 0, 0, 0.15);\n",
              "      filter: drop-shadow(0px 1px 2px rgba(0, 0, 0, 0.3));\n",
              "      fill: #FFFFFF;\n",
              "    }\n",
              "  </style>\n",
              "\n",
              "      <script>\n",
              "        const buttonEl =\n",
              "          document.querySelector('#df-73ab6b2b-5867-4fb3-bc62-ae4c48f2df07 button.colab-df-convert');\n",
              "        buttonEl.style.display =\n",
              "          google.colab.kernel.accessAllowed ? 'block' : 'none';\n",
              "\n",
              "        async function convertToInteractive(key) {\n",
              "          const element = document.querySelector('#df-73ab6b2b-5867-4fb3-bc62-ae4c48f2df07');\n",
              "          const dataTable =\n",
              "            await google.colab.kernel.invokeFunction('convertToInteractive',\n",
              "                                                     [key], {});\n",
              "          if (!dataTable) return;\n",
              "\n",
              "          const docLinkHtml = 'Like what you see? Visit the ' +\n",
              "            '<a target=\"_blank\" href=https://colab.research.google.com/notebooks/data_table.ipynb>data table notebook</a>'\n",
              "            + ' to learn more about interactive tables.';\n",
              "          element.innerHTML = '';\n",
              "          dataTable['output_type'] = 'display_data';\n",
              "          await google.colab.output.renderOutput(dataTable, element);\n",
              "          const docLink = document.createElement('div');\n",
              "          docLink.innerHTML = docLinkHtml;\n",
              "          element.appendChild(docLink);\n",
              "        }\n",
              "      </script>\n",
              "    </div>\n",
              "  </div>\n",
              "  "
            ]
          },
          "metadata": {},
          "execution_count": 91
        }
      ]
    },
    {
      "cell_type": "markdown",
      "source": [
        "## 9. Loại bỏ stopword"
      ],
      "metadata": {
        "id": "JMI_QPDXGkYq"
      }
    },
    {
      "cell_type": "markdown",
      "source": [
        "Stopword là những từ thường xuyên xuất hiện trong văn nói, văn viết và không có quá nhiều ý nghĩa, đặc trưng cho bài toán phân loại cảm xúc trong câu. Ví dụ về stopword như: là, rằng, theo, thì, đó,..."
      ],
      "metadata": {
        "id": "1mKXK6vqGpQi"
      }
    },
    {
      "cell_type": "markdown",
      "source": [
        "### 9.1. Dùng stopword có sẵn từ github"
      ],
      "metadata": {
        "id": "iBrIpFsYe7Lc"
      }
    },
    {
      "cell_type": "code",
      "source": [
        "# %cd /content\n",
        "# !git clone https://github.com/stopwords/vietnamese-stopwords.git"
      ],
      "metadata": {
        "id": "lmZj8RbrGcqE"
      },
      "execution_count": null,
      "outputs": []
    },
    {
      "cell_type": "code",
      "source": [
        "# sw1 = open('/content/vietnamese-stopwords/vietnamese-stopwords-dash.txt')\n",
        "# sw1 = sw1.readlines()\n",
        "# sw1 = [x.strip() for x in sw1]"
      ],
      "metadata": {
        "id": "9oYO26MRG9HL"
      },
      "execution_count": null,
      "outputs": []
    },
    {
      "cell_type": "code",
      "source": [
        "# def remove_stopwords(document):\n",
        "#   words = document.split(' ')\n",
        "#   res = list()\n",
        "#   for word in words:\n",
        "#     if word not in stopwords:\n",
        "#       res.append(word)\n",
        "\n",
        "#   return ' '.join(res)\n",
        "\n",
        "# remove_stopwords('theo nghị định đã ban hành, người dân cũng_nên ở trong nhà đến hết ngày 16/9.')"
      ],
      "metadata": {
        "colab": {
          "base_uri": "https://localhost:8080/",
          "height": 36
        },
        "id": "9O0wjfIJHJEt",
        "outputId": "7da85487-a445-4e38-97ef-31625cdf79b0"
      },
      "execution_count": null,
      "outputs": [
        {
          "output_type": "execute_result",
          "data": {
            "text/plain": [
              "'nghị định ban hành, dân 16/9.'"
            ],
            "application/vnd.google.colaboratory.intrinsic+json": {
              "type": "string"
            }
          },
          "metadata": {},
          "execution_count": 55
        }
      ]
    },
    {
      "cell_type": "markdown",
      "source": [
        "**Vấn đề**: Trong bộ stopword này có những từ đặc trưng cho khía cạnh đánh giá, việc loại bỏ các từ này sẽ khiến bình luận không còn mang đặc trưng và việc huấn luyện, dự đoán sẽ bị nhiễu. Ví dụ: tốt, toẹt (tuyệt)"
      ],
      "metadata": {
        "id": "fXpxAPx5fFd0"
      }
    },
    {
      "cell_type": "markdown",
      "source": [
        "### 9.2. Tạo stopword từ bộ dữ liệu"
      ],
      "metadata": {
        "id": "ANy99lkMe_nz"
      }
    },
    {
      "cell_type": "markdown",
      "source": [
        "#### 9.2.1. Tạo bảng tần số từ"
      ],
      "metadata": {
        "id": "n8DGRxKIh6O4"
      }
    },
    {
      "cell_type": "code",
      "source": [
        "# count = {}\n",
        "# for content in (data[\"Preprocess_Review\"]):\n",
        "#   words = content.split(' ')\n",
        "#   for word in words:\n",
        "#     if word not in count:\n",
        "#       count[word] = 1\n",
        "#     else:\n",
        "#       count[word] += 1\n",
        "\n",
        "# print('Số từ trong dataset: ', len(count))"
      ],
      "metadata": {
        "colab": {
          "base_uri": "https://localhost:8080/"
        },
        "id": "jFbEQrHOfr4O",
        "outputId": "a75a259f-7fd6-4242-c9bc-394a7413e2fa"
      },
      "execution_count": null,
      "outputs": [
        {
          "output_type": "stream",
          "name": "stdout",
          "text": [
            "Số từ trong dataset:  12712\n"
          ]
        }
      ]
    },
    {
      "cell_type": "markdown",
      "source": [
        "#### 9.2.2. Chọn stopword là 200 từ xuất hiện nhiều nhất"
      ],
      "metadata": {
        "id": "xpU3AvpTh8Bn"
      }
    },
    {
      "cell_type": "code",
      "source": [
        "# sorted_count = sorted(count, key=count.get, reverse=True)\n",
        "# for word in np.array(sorted_count)[:200]:\n",
        "#   print(f'{word} - {count[word]}', end=\", \")"
      ],
      "metadata": {
        "colab": {
          "base_uri": "https://localhost:8080/"
        },
        "id": "iOeLFFZfhXl_",
        "outputId": "29438e1c-5c69-4120-e703-7081e118b214"
      },
      "execution_count": null,
      "outputs": [
        {
          "output_type": "stream",
          "name": "stdout",
          "text": [
            "mình - 8888, ăn - 8808, là - 7207, thì - 7085, có - 6815, và - 5840, không - 5328, cũng - 4747, quán - 4692, mà - 3742, rất - 3731, ở - 3661, nhưng - 3624, nên - 3299, lại - 3141, đến - 2918, ngon - 2900, đây - 2889, đi - 2846, thấy - 2722, ko - 2620, cho - 2610, bạn - 2586, với - 2568, gọi - 2539, ra - 2450, nhân_viên - 2399, được - 2370, như - 2366, còn - 2310, các - 2210, k - 2192, món - 2172, đồ - 2137, lần - 2125, phải - 2051, khá - 2046, nhiều - 2025, vào - 2019, của - 2006, cái - 1973, quá - 1970, để - 1848, bánh - 1791, này - 1737, phục_vụ - 1699, vì - 1674, gì - 1534, mới - 1502, trong - 1501, hơi - 1478, đã - 1471, chỉ - 1443, người - 1401, một - 1397, cả - 1390, sẽ - 1379, vị - 1355, quay - 1316, ngồi - 1308, khách - 1297, hơn - 1267, thích - 1264, giá - 1255, lúc - 1226, khi - 1215, rồi - 1209, trà - 1206, chỗ - 1177, thêm - 1150, về - 1139, thịt - 1130, vừa - 1118, vẫn - 1110, bị - 1079, từ - 1047, nước - 1047, hay - 1037, nói - 1032, nào - 1028, uống - 1022, chưa - 999, hết - 993, luôn - 992, đc - 988, bàn - 978, không_gian - 963, mấy - 956, nữa - 944, đông - 915, lên - 914, nhất - 911, sau - 903, kiểu - 896, làm - 878, nhìn - 848, đó - 832, khác - 808, kem - 804, lắm - 804, xong - 802, thử - 790, trên - 785, gà - 752, bên - 751, biết - 741, tiền - 735, xe - 732, mang - 721, chả - 691, tầng - 676, nhà - 676, gần - 669, loại - 668, chất_lượng - 655, qua - 655, chắc - 654, chứ - 651, hôm - 641, muốn - 639, thế - 631, những - 630, bảo - 629, thôi - 628, mỗi - 623, lẩu - 618, sốt - 617, đẹp - 609, nướng - 599, bát - 599, cốc - 597, hỏi - 596, thái_độ - 587, đồ_uống - 586, ngay - 581, mua - 576, trước - 569, cứ - 569, ý - 569, hàng - 556, ngọt - 556, dễ - 556, nhà_hàng - 538, đầu - 536, nó - 535, miếng - 534, nói_chung - 533, nếu - 532, bò - 532, cơm - 530, ngoài - 528, đúng - 527, đều - 524, so - 518, thứ - 518, rẻ - 503, đâu - 493, sữa - 492, toàn - 489, ít - 485, vs - 479, to - 473, đĩa - 466, em - 463, bọn - 458, lâu - 456, thơm - 455, giá_cả - 454, đấy - 452, đắt - 440, bao_giờ - 439, chị - 436, có_thể - 431, đặt - 422, siêu - 418, cảm_giác - 414, ngày - 409, ai - 406, do - 405, chẳng - 404, mùi - 404, mất - 401, order - 399, mỳ - 399, lấy - 386, chủ - 385, cùng - 383, đường - 383, theo - 378, đang - 378, nhiệt - 377, tới - 375, sao - 373, bé - 373, con - 373, nhiệt_tình - 372, anh - 369, chán - 367, đồ_ăn - 365, mọi - 365, "
          ]
        }
      ]
    },
    {
      "cell_type": "markdown",
      "source": [
        "**Lưu ý**: cần lọc lại những từ có ý nghĩa đánh giá trong bộ dữ liệu như ngon, ít,... và những từ mang ý nghĩa phủ định như k, không, hông, ko,..."
      ],
      "metadata": {
        "id": "dK39GHpYomMQ"
      }
    },
    {
      "cell_type": "markdown",
      "source": [
        "9.2.3. Lọc giữ các từ có ý nghĩa đánh giá"
      ],
      "metadata": {
        "id": "O1X7DeBXsUpF"
      }
    },
    {
      "cell_type": "code",
      "source": [
        "# %cd /content\n",
        "# %rm -r /content/vietnamese-stopwords\n",
        "# !git clone https://github.com/npk7264/vietnamese-stopwords.git"
      ],
      "metadata": {
        "id": "X1MMqeSiqZ5d"
      },
      "execution_count": null,
      "outputs": []
    },
    {
      "cell_type": "code",
      "source": [
        "# important = open('/content/vietnamese-stopwords/food-sentiment-custom/not-stopword.txt')\n",
        "# important = important.readlines()\n",
        "# important = [x.strip() for x in important]"
      ],
      "metadata": {
        "id": "YRGIorr_n2O9"
      },
      "execution_count": null,
      "outputs": []
    },
    {
      "cell_type": "code",
      "source": [
        "# stopwords = set()\n",
        "# for word in sorted_count[:200]:\n",
        "#   if word not in important:\n",
        "#     stopwords.add(word)"
      ],
      "metadata": {
        "id": "I5VtRNJ6iE4j"
      },
      "execution_count": null,
      "outputs": []
    },
    {
      "cell_type": "code",
      "source": [
        "# len(stopwords)"
      ],
      "metadata": {
        "colab": {
          "base_uri": "https://localhost:8080/"
        },
        "id": "Z2Yw4VBen_lQ",
        "outputId": "12a7ac62-cafa-40a4-c76d-b56bf9cac416"
      },
      "execution_count": null,
      "outputs": [
        {
          "output_type": "execute_result",
          "data": {
            "text/plain": [
              "181"
            ]
          },
          "metadata": {},
          "execution_count": 108
        }
      ]
    },
    {
      "cell_type": "markdown",
      "source": [
        "### 9.3. Xử lí với stopword đã tổng hợp"
      ],
      "metadata": {
        "id": "PsqWaLWYwnt4"
      }
    },
    {
      "cell_type": "code",
      "source": [
        "%cd /content\n",
        "%rm -r /content/CS114\n",
        "!git clone https://github.com/npk7264/CS114.git"
      ],
      "metadata": {
        "colab": {
          "base_uri": "https://localhost:8080/"
        },
        "id": "m-P-E0mW-3YR",
        "outputId": "76643095-68d4-4959-be06-e9b065f1c0ab"
      },
      "execution_count": 92,
      "outputs": [
        {
          "output_type": "stream",
          "name": "stdout",
          "text": [
            "/content\n",
            "Cloning into 'CS114'...\n",
            "remote: Enumerating objects: 79, done.\u001b[K\n",
            "remote: Counting objects: 100% (79/79), done.\u001b[K\n",
            "remote: Compressing objects: 100% (57/57), done.\u001b[K\n",
            "remote: Total 79 (delta 26), reused 52 (delta 9), pack-reused 0\u001b[K\n",
            "Unpacking objects: 100% (79/79), 4.19 MiB | 7.88 MiB/s, done.\n"
          ]
        }
      ]
    },
    {
      "cell_type": "code",
      "source": [
        "stopwords = open('/content/CS114/Final_project/code/stopword.txt')\n",
        "stopwords = stopwords.readlines()\n",
        "stopwords = [x.strip() for x in stopwords]"
      ],
      "metadata": {
        "id": "oriqglbxwtRb"
      },
      "execution_count": 93,
      "outputs": []
    },
    {
      "cell_type": "markdown",
      "source": [
        "**Note**: Bộ dữ liệu stopword từ github đã được custom cho phù hợp với bài toán"
      ],
      "metadata": {
        "id": "ksuVQiAYypTz"
      }
    },
    {
      "cell_type": "code",
      "source": [
        "len(stopwords)"
      ],
      "metadata": {
        "colab": {
          "base_uri": "https://localhost:8080/"
        },
        "id": "5nJp6nfnyS_5",
        "outputId": "bcf22bc0-e1d1-4f12-8741-4479f706b557"
      },
      "execution_count": 94,
      "outputs": [
        {
          "output_type": "execute_result",
          "data": {
            "text/plain": [
              "1844"
            ]
          },
          "metadata": {},
          "execution_count": 94
        }
      ]
    },
    {
      "cell_type": "code",
      "source": [
        "def remove_stopwords(document):\n",
        "  words = document.split(' ')\n",
        "  res = list()\n",
        "  for word in words:\n",
        "    if word not in stopwords:\n",
        "      res.append(word)\n",
        "\n",
        "  return ' '.join(res)\n",
        "\n",
        "print(text_preprocessing('Nhân viên hơi thái_độ Giá cũng cao hơn các chỗ khác'))\n",
        "print(remove_stopwords(text_preprocessing('Nhân viên hơi thái_độ Giá cũng cao hơn các chỗ')))"
      ],
      "metadata": {
        "colab": {
          "base_uri": "https://localhost:8080/"
        },
        "id": "H2U1jiCMynR-",
        "outputId": "00502417-f690-4b7c-e5de-1b706dc70a70"
      },
      "execution_count": 95,
      "outputs": [
        {
          "output_type": "stream",
          "name": "stdout",
          "text": [
            "nhân_viên hơi thái_độ giá cũng cao hơn các chỗ khác\n",
            "hơi thái_độ giá cao hơn\n"
          ]
        }
      ]
    },
    {
      "cell_type": "markdown",
      "source": [
        "## 10. Tổng hợp 2"
      ],
      "metadata": {
        "id": "SChTCjzSHtpn"
      }
    },
    {
      "cell_type": "markdown",
      "source": [
        "### 10.1. Áp dụng tiền xử lí cho tất cả review"
      ],
      "metadata": {
        "id": "BOpM7K_kM8Ch"
      }
    },
    {
      "cell_type": "code",
      "source": [
        "data[\"Preprocess_Review\"] = data[\"Preprocess_Review\"].apply(lambda x: remove_stopwords(x))\n",
        "data"
      ],
      "metadata": {
        "colab": {
          "base_uri": "https://localhost:8080/",
          "height": 423
        },
        "id": "fmqectrvIH8b",
        "outputId": "3fc38518-6761-480c-aa86-bdfdf8991974"
      },
      "execution_count": 96,
      "outputs": [
        {
          "output_type": "execute_result",
          "data": {
            "text/plain": [
              "      Rate                                             Review  Label  \\\n",
              "0      9.0  Khu ẩm thực với đa dạng đồ lại còn bày trí đẹp...      1   \n",
              "1      9.0  Lúc nào đến aeon là lúc đấy phải tống một đống...      1   \n",
              "2     10.0  Bánh ngon lại rẻ chê đâu được gần hết các loại...      1   \n",
              "3      9.0                                            Ngon rẻ      1   \n",
              "4      9,6  Tôi sắp chết vì ngập trong sushi mấttttt Lên h...      1   \n",
              "...    ...                                                ...    ...   \n",
              "3372   2.8  Mình gọi 3 phần như hình, cơm trộn, tobokki, c...     -1   \n",
              "3373   6.0  Vị trí dễ tìm\\nNhân viên bình thường\\nĐồ ăn kh...     -1   \n",
              "3374   5.0  Mình tìm quán này trên Foody thầy cmt nói khá ...     -1   \n",
              "3375   6.2  Mình với mấy đứa bạn vừa thi xong là phi ra ng...     -1   \n",
              "3376   1.0  1 dĩa có xíu đồ ăn không đủ xứng đáng với giá ...     -1   \n",
              "\n",
              "                                      Preprocess_Review  \n",
              "0     khu ẩm_thực đa_dạng đồ còn bày trí đẹp nên hấp...  \n",
              "1     aeon phải tống đống mồm đồ ngon rẻ siêu_thị xó...  \n",
              "2                  ngon rẻ chê được trái tiêm foodcourt  \n",
              "3                                               ngon rẻ  \n",
              "4     chết ngập sushi hà_nội phải ôm đống đồ court n...  \n",
              "...                                                 ...  \n",
              "3372  hình trộn tobokki canh kim_chi đen soda đào tổ...  \n",
              "3373  dễ tìm bình_thường đồ không ngon trộn nhạt_nhẽ...  \n",
              "3374  tìm foody thầy cmt khá ổn nên quyết_định tok k...  \n",
              "3375  đứa vừa thi phi ko lầu nên hơi thất_vọng xíu t...  \n",
              "3376  dĩa xíu đồ không đủ xứng_đáng giá nêm nếm tụi_...  \n",
              "\n",
              "[11494 rows x 4 columns]"
            ],
            "text/html": [
              "\n",
              "  <div id=\"df-b61b172e-f5ac-478a-a7d9-04b97dd8af1a\">\n",
              "    <div class=\"colab-df-container\">\n",
              "      <div>\n",
              "<style scoped>\n",
              "    .dataframe tbody tr th:only-of-type {\n",
              "        vertical-align: middle;\n",
              "    }\n",
              "\n",
              "    .dataframe tbody tr th {\n",
              "        vertical-align: top;\n",
              "    }\n",
              "\n",
              "    .dataframe thead th {\n",
              "        text-align: right;\n",
              "    }\n",
              "</style>\n",
              "<table border=\"1\" class=\"dataframe\">\n",
              "  <thead>\n",
              "    <tr style=\"text-align: right;\">\n",
              "      <th></th>\n",
              "      <th>Rate</th>\n",
              "      <th>Review</th>\n",
              "      <th>Label</th>\n",
              "      <th>Preprocess_Review</th>\n",
              "    </tr>\n",
              "  </thead>\n",
              "  <tbody>\n",
              "    <tr>\n",
              "      <th>0</th>\n",
              "      <td>9.0</td>\n",
              "      <td>Khu ẩm thực với đa dạng đồ lại còn bày trí đẹp...</td>\n",
              "      <td>1</td>\n",
              "      <td>khu ẩm_thực đa_dạng đồ còn bày trí đẹp nên hấp...</td>\n",
              "    </tr>\n",
              "    <tr>\n",
              "      <th>1</th>\n",
              "      <td>9.0</td>\n",
              "      <td>Lúc nào đến aeon là lúc đấy phải tống một đống...</td>\n",
              "      <td>1</td>\n",
              "      <td>aeon phải tống đống mồm đồ ngon rẻ siêu_thị xó...</td>\n",
              "    </tr>\n",
              "    <tr>\n",
              "      <th>2</th>\n",
              "      <td>10.0</td>\n",
              "      <td>Bánh ngon lại rẻ chê đâu được gần hết các loại...</td>\n",
              "      <td>1</td>\n",
              "      <td>ngon rẻ chê được trái tiêm foodcourt</td>\n",
              "    </tr>\n",
              "    <tr>\n",
              "      <th>3</th>\n",
              "      <td>9.0</td>\n",
              "      <td>Ngon rẻ</td>\n",
              "      <td>1</td>\n",
              "      <td>ngon rẻ</td>\n",
              "    </tr>\n",
              "    <tr>\n",
              "      <th>4</th>\n",
              "      <td>9,6</td>\n",
              "      <td>Tôi sắp chết vì ngập trong sushi mấttttt Lên h...</td>\n",
              "      <td>1</td>\n",
              "      <td>chết ngập sushi hà_nội phải ôm đống đồ court n...</td>\n",
              "    </tr>\n",
              "    <tr>\n",
              "      <th>...</th>\n",
              "      <td>...</td>\n",
              "      <td>...</td>\n",
              "      <td>...</td>\n",
              "      <td>...</td>\n",
              "    </tr>\n",
              "    <tr>\n",
              "      <th>3372</th>\n",
              "      <td>2.8</td>\n",
              "      <td>Mình gọi 3 phần như hình, cơm trộn, tobokki, c...</td>\n",
              "      <td>-1</td>\n",
              "      <td>hình trộn tobokki canh kim_chi đen soda đào tổ...</td>\n",
              "    </tr>\n",
              "    <tr>\n",
              "      <th>3373</th>\n",
              "      <td>6.0</td>\n",
              "      <td>Vị trí dễ tìm\\nNhân viên bình thường\\nĐồ ăn kh...</td>\n",
              "      <td>-1</td>\n",
              "      <td>dễ tìm bình_thường đồ không ngon trộn nhạt_nhẽ...</td>\n",
              "    </tr>\n",
              "    <tr>\n",
              "      <th>3374</th>\n",
              "      <td>5.0</td>\n",
              "      <td>Mình tìm quán này trên Foody thầy cmt nói khá ...</td>\n",
              "      <td>-1</td>\n",
              "      <td>tìm foody thầy cmt khá ổn nên quyết_định tok k...</td>\n",
              "    </tr>\n",
              "    <tr>\n",
              "      <th>3375</th>\n",
              "      <td>6.2</td>\n",
              "      <td>Mình với mấy đứa bạn vừa thi xong là phi ra ng...</td>\n",
              "      <td>-1</td>\n",
              "      <td>đứa vừa thi phi ko lầu nên hơi thất_vọng xíu t...</td>\n",
              "    </tr>\n",
              "    <tr>\n",
              "      <th>3376</th>\n",
              "      <td>1.0</td>\n",
              "      <td>1 dĩa có xíu đồ ăn không đủ xứng đáng với giá ...</td>\n",
              "      <td>-1</td>\n",
              "      <td>dĩa xíu đồ không đủ xứng_đáng giá nêm nếm tụi_...</td>\n",
              "    </tr>\n",
              "  </tbody>\n",
              "</table>\n",
              "<p>11494 rows × 4 columns</p>\n",
              "</div>\n",
              "      <button class=\"colab-df-convert\" onclick=\"convertToInteractive('df-b61b172e-f5ac-478a-a7d9-04b97dd8af1a')\"\n",
              "              title=\"Convert this dataframe to an interactive table.\"\n",
              "              style=\"display:none;\">\n",
              "        \n",
              "  <svg xmlns=\"http://www.w3.org/2000/svg\" height=\"24px\"viewBox=\"0 0 24 24\"\n",
              "       width=\"24px\">\n",
              "    <path d=\"M0 0h24v24H0V0z\" fill=\"none\"/>\n",
              "    <path d=\"M18.56 5.44l.94 2.06.94-2.06 2.06-.94-2.06-.94-.94-2.06-.94 2.06-2.06.94zm-11 1L8.5 8.5l.94-2.06 2.06-.94-2.06-.94L8.5 2.5l-.94 2.06-2.06.94zm10 10l.94 2.06.94-2.06 2.06-.94-2.06-.94-.94-2.06-.94 2.06-2.06.94z\"/><path d=\"M17.41 7.96l-1.37-1.37c-.4-.4-.92-.59-1.43-.59-.52 0-1.04.2-1.43.59L10.3 9.45l-7.72 7.72c-.78.78-.78 2.05 0 2.83L4 21.41c.39.39.9.59 1.41.59.51 0 1.02-.2 1.41-.59l7.78-7.78 2.81-2.81c.8-.78.8-2.07 0-2.86zM5.41 20L4 18.59l7.72-7.72 1.47 1.35L5.41 20z\"/>\n",
              "  </svg>\n",
              "      </button>\n",
              "      \n",
              "  <style>\n",
              "    .colab-df-container {\n",
              "      display:flex;\n",
              "      flex-wrap:wrap;\n",
              "      gap: 12px;\n",
              "    }\n",
              "\n",
              "    .colab-df-convert {\n",
              "      background-color: #E8F0FE;\n",
              "      border: none;\n",
              "      border-radius: 50%;\n",
              "      cursor: pointer;\n",
              "      display: none;\n",
              "      fill: #1967D2;\n",
              "      height: 32px;\n",
              "      padding: 0 0 0 0;\n",
              "      width: 32px;\n",
              "    }\n",
              "\n",
              "    .colab-df-convert:hover {\n",
              "      background-color: #E2EBFA;\n",
              "      box-shadow: 0px 1px 2px rgba(60, 64, 67, 0.3), 0px 1px 3px 1px rgba(60, 64, 67, 0.15);\n",
              "      fill: #174EA6;\n",
              "    }\n",
              "\n",
              "    [theme=dark] .colab-df-convert {\n",
              "      background-color: #3B4455;\n",
              "      fill: #D2E3FC;\n",
              "    }\n",
              "\n",
              "    [theme=dark] .colab-df-convert:hover {\n",
              "      background-color: #434B5C;\n",
              "      box-shadow: 0px 1px 3px 1px rgba(0, 0, 0, 0.15);\n",
              "      filter: drop-shadow(0px 1px 2px rgba(0, 0, 0, 0.3));\n",
              "      fill: #FFFFFF;\n",
              "    }\n",
              "  </style>\n",
              "\n",
              "      <script>\n",
              "        const buttonEl =\n",
              "          document.querySelector('#df-b61b172e-f5ac-478a-a7d9-04b97dd8af1a button.colab-df-convert');\n",
              "        buttonEl.style.display =\n",
              "          google.colab.kernel.accessAllowed ? 'block' : 'none';\n",
              "\n",
              "        async function convertToInteractive(key) {\n",
              "          const element = document.querySelector('#df-b61b172e-f5ac-478a-a7d9-04b97dd8af1a');\n",
              "          const dataTable =\n",
              "            await google.colab.kernel.invokeFunction('convertToInteractive',\n",
              "                                                     [key], {});\n",
              "          if (!dataTable) return;\n",
              "\n",
              "          const docLinkHtml = 'Like what you see? Visit the ' +\n",
              "            '<a target=\"_blank\" href=https://colab.research.google.com/notebooks/data_table.ipynb>data table notebook</a>'\n",
              "            + ' to learn more about interactive tables.';\n",
              "          element.innerHTML = '';\n",
              "          dataTable['output_type'] = 'display_data';\n",
              "          await google.colab.output.renderOutput(dataTable, element);\n",
              "          const docLink = document.createElement('div');\n",
              "          docLink.innerHTML = docLinkHtml;\n",
              "          element.appendChild(docLink);\n",
              "        }\n",
              "      </script>\n",
              "    </div>\n",
              "  </div>\n",
              "  "
            ]
          },
          "metadata": {},
          "execution_count": 96
        }
      ]
    },
    {
      "cell_type": "markdown",
      "source": [
        "### 10.2. Bỏ các giá trị NaN, giá trị rỗng, lặp lại"
      ],
      "metadata": {
        "id": "pSyGLHRB2Ed-"
      }
    },
    {
      "cell_type": "code",
      "source": [
        "data.drop_duplicates(inplace=True)\n",
        "data"
      ],
      "metadata": {
        "colab": {
          "base_uri": "https://localhost:8080/",
          "height": 423
        },
        "id": "B4iNRnNxG80A",
        "outputId": "ec0e2ad0-8390-4e48-becc-6725bd3068fd"
      },
      "execution_count": 97,
      "outputs": [
        {
          "output_type": "execute_result",
          "data": {
            "text/plain": [
              "      Rate                                             Review  Label  \\\n",
              "0      9.0  Khu ẩm thực với đa dạng đồ lại còn bày trí đẹp...      1   \n",
              "1      9.0  Lúc nào đến aeon là lúc đấy phải tống một đống...      1   \n",
              "2     10.0  Bánh ngon lại rẻ chê đâu được gần hết các loại...      1   \n",
              "3      9.0                                            Ngon rẻ      1   \n",
              "4      9,6  Tôi sắp chết vì ngập trong sushi mấttttt Lên h...      1   \n",
              "...    ...                                                ...    ...   \n",
              "3372   2.8  Mình gọi 3 phần như hình, cơm trộn, tobokki, c...     -1   \n",
              "3373   6.0  Vị trí dễ tìm\\nNhân viên bình thường\\nĐồ ăn kh...     -1   \n",
              "3374   5.0  Mình tìm quán này trên Foody thầy cmt nói khá ...     -1   \n",
              "3375   6.2  Mình với mấy đứa bạn vừa thi xong là phi ra ng...     -1   \n",
              "3376   1.0  1 dĩa có xíu đồ ăn không đủ xứng đáng với giá ...     -1   \n",
              "\n",
              "                                      Preprocess_Review  \n",
              "0     khu ẩm_thực đa_dạng đồ còn bày trí đẹp nên hấp...  \n",
              "1     aeon phải tống đống mồm đồ ngon rẻ siêu_thị xó...  \n",
              "2                  ngon rẻ chê được trái tiêm foodcourt  \n",
              "3                                               ngon rẻ  \n",
              "4     chết ngập sushi hà_nội phải ôm đống đồ court n...  \n",
              "...                                                 ...  \n",
              "3372  hình trộn tobokki canh kim_chi đen soda đào tổ...  \n",
              "3373  dễ tìm bình_thường đồ không ngon trộn nhạt_nhẽ...  \n",
              "3374  tìm foody thầy cmt khá ổn nên quyết_định tok k...  \n",
              "3375  đứa vừa thi phi ko lầu nên hơi thất_vọng xíu t...  \n",
              "3376  dĩa xíu đồ không đủ xứng_đáng giá nêm nếm tụi_...  \n",
              "\n",
              "[11165 rows x 4 columns]"
            ],
            "text/html": [
              "\n",
              "  <div id=\"df-6137c9a4-3ad7-4c3f-b1b3-41d6061d9047\">\n",
              "    <div class=\"colab-df-container\">\n",
              "      <div>\n",
              "<style scoped>\n",
              "    .dataframe tbody tr th:only-of-type {\n",
              "        vertical-align: middle;\n",
              "    }\n",
              "\n",
              "    .dataframe tbody tr th {\n",
              "        vertical-align: top;\n",
              "    }\n",
              "\n",
              "    .dataframe thead th {\n",
              "        text-align: right;\n",
              "    }\n",
              "</style>\n",
              "<table border=\"1\" class=\"dataframe\">\n",
              "  <thead>\n",
              "    <tr style=\"text-align: right;\">\n",
              "      <th></th>\n",
              "      <th>Rate</th>\n",
              "      <th>Review</th>\n",
              "      <th>Label</th>\n",
              "      <th>Preprocess_Review</th>\n",
              "    </tr>\n",
              "  </thead>\n",
              "  <tbody>\n",
              "    <tr>\n",
              "      <th>0</th>\n",
              "      <td>9.0</td>\n",
              "      <td>Khu ẩm thực với đa dạng đồ lại còn bày trí đẹp...</td>\n",
              "      <td>1</td>\n",
              "      <td>khu ẩm_thực đa_dạng đồ còn bày trí đẹp nên hấp...</td>\n",
              "    </tr>\n",
              "    <tr>\n",
              "      <th>1</th>\n",
              "      <td>9.0</td>\n",
              "      <td>Lúc nào đến aeon là lúc đấy phải tống một đống...</td>\n",
              "      <td>1</td>\n",
              "      <td>aeon phải tống đống mồm đồ ngon rẻ siêu_thị xó...</td>\n",
              "    </tr>\n",
              "    <tr>\n",
              "      <th>2</th>\n",
              "      <td>10.0</td>\n",
              "      <td>Bánh ngon lại rẻ chê đâu được gần hết các loại...</td>\n",
              "      <td>1</td>\n",
              "      <td>ngon rẻ chê được trái tiêm foodcourt</td>\n",
              "    </tr>\n",
              "    <tr>\n",
              "      <th>3</th>\n",
              "      <td>9.0</td>\n",
              "      <td>Ngon rẻ</td>\n",
              "      <td>1</td>\n",
              "      <td>ngon rẻ</td>\n",
              "    </tr>\n",
              "    <tr>\n",
              "      <th>4</th>\n",
              "      <td>9,6</td>\n",
              "      <td>Tôi sắp chết vì ngập trong sushi mấttttt Lên h...</td>\n",
              "      <td>1</td>\n",
              "      <td>chết ngập sushi hà_nội phải ôm đống đồ court n...</td>\n",
              "    </tr>\n",
              "    <tr>\n",
              "      <th>...</th>\n",
              "      <td>...</td>\n",
              "      <td>...</td>\n",
              "      <td>...</td>\n",
              "      <td>...</td>\n",
              "    </tr>\n",
              "    <tr>\n",
              "      <th>3372</th>\n",
              "      <td>2.8</td>\n",
              "      <td>Mình gọi 3 phần như hình, cơm trộn, tobokki, c...</td>\n",
              "      <td>-1</td>\n",
              "      <td>hình trộn tobokki canh kim_chi đen soda đào tổ...</td>\n",
              "    </tr>\n",
              "    <tr>\n",
              "      <th>3373</th>\n",
              "      <td>6.0</td>\n",
              "      <td>Vị trí dễ tìm\\nNhân viên bình thường\\nĐồ ăn kh...</td>\n",
              "      <td>-1</td>\n",
              "      <td>dễ tìm bình_thường đồ không ngon trộn nhạt_nhẽ...</td>\n",
              "    </tr>\n",
              "    <tr>\n",
              "      <th>3374</th>\n",
              "      <td>5.0</td>\n",
              "      <td>Mình tìm quán này trên Foody thầy cmt nói khá ...</td>\n",
              "      <td>-1</td>\n",
              "      <td>tìm foody thầy cmt khá ổn nên quyết_định tok k...</td>\n",
              "    </tr>\n",
              "    <tr>\n",
              "      <th>3375</th>\n",
              "      <td>6.2</td>\n",
              "      <td>Mình với mấy đứa bạn vừa thi xong là phi ra ng...</td>\n",
              "      <td>-1</td>\n",
              "      <td>đứa vừa thi phi ko lầu nên hơi thất_vọng xíu t...</td>\n",
              "    </tr>\n",
              "    <tr>\n",
              "      <th>3376</th>\n",
              "      <td>1.0</td>\n",
              "      <td>1 dĩa có xíu đồ ăn không đủ xứng đáng với giá ...</td>\n",
              "      <td>-1</td>\n",
              "      <td>dĩa xíu đồ không đủ xứng_đáng giá nêm nếm tụi_...</td>\n",
              "    </tr>\n",
              "  </tbody>\n",
              "</table>\n",
              "<p>11165 rows × 4 columns</p>\n",
              "</div>\n",
              "      <button class=\"colab-df-convert\" onclick=\"convertToInteractive('df-6137c9a4-3ad7-4c3f-b1b3-41d6061d9047')\"\n",
              "              title=\"Convert this dataframe to an interactive table.\"\n",
              "              style=\"display:none;\">\n",
              "        \n",
              "  <svg xmlns=\"http://www.w3.org/2000/svg\" height=\"24px\"viewBox=\"0 0 24 24\"\n",
              "       width=\"24px\">\n",
              "    <path d=\"M0 0h24v24H0V0z\" fill=\"none\"/>\n",
              "    <path d=\"M18.56 5.44l.94 2.06.94-2.06 2.06-.94-2.06-.94-.94-2.06-.94 2.06-2.06.94zm-11 1L8.5 8.5l.94-2.06 2.06-.94-2.06-.94L8.5 2.5l-.94 2.06-2.06.94zm10 10l.94 2.06.94-2.06 2.06-.94-2.06-.94-.94-2.06-.94 2.06-2.06.94z\"/><path d=\"M17.41 7.96l-1.37-1.37c-.4-.4-.92-.59-1.43-.59-.52 0-1.04.2-1.43.59L10.3 9.45l-7.72 7.72c-.78.78-.78 2.05 0 2.83L4 21.41c.39.39.9.59 1.41.59.51 0 1.02-.2 1.41-.59l7.78-7.78 2.81-2.81c.8-.78.8-2.07 0-2.86zM5.41 20L4 18.59l7.72-7.72 1.47 1.35L5.41 20z\"/>\n",
              "  </svg>\n",
              "      </button>\n",
              "      \n",
              "  <style>\n",
              "    .colab-df-container {\n",
              "      display:flex;\n",
              "      flex-wrap:wrap;\n",
              "      gap: 12px;\n",
              "    }\n",
              "\n",
              "    .colab-df-convert {\n",
              "      background-color: #E8F0FE;\n",
              "      border: none;\n",
              "      border-radius: 50%;\n",
              "      cursor: pointer;\n",
              "      display: none;\n",
              "      fill: #1967D2;\n",
              "      height: 32px;\n",
              "      padding: 0 0 0 0;\n",
              "      width: 32px;\n",
              "    }\n",
              "\n",
              "    .colab-df-convert:hover {\n",
              "      background-color: #E2EBFA;\n",
              "      box-shadow: 0px 1px 2px rgba(60, 64, 67, 0.3), 0px 1px 3px 1px rgba(60, 64, 67, 0.15);\n",
              "      fill: #174EA6;\n",
              "    }\n",
              "\n",
              "    [theme=dark] .colab-df-convert {\n",
              "      background-color: #3B4455;\n",
              "      fill: #D2E3FC;\n",
              "    }\n",
              "\n",
              "    [theme=dark] .colab-df-convert:hover {\n",
              "      background-color: #434B5C;\n",
              "      box-shadow: 0px 1px 3px 1px rgba(0, 0, 0, 0.15);\n",
              "      filter: drop-shadow(0px 1px 2px rgba(0, 0, 0, 0.3));\n",
              "      fill: #FFFFFF;\n",
              "    }\n",
              "  </style>\n",
              "\n",
              "      <script>\n",
              "        const buttonEl =\n",
              "          document.querySelector('#df-6137c9a4-3ad7-4c3f-b1b3-41d6061d9047 button.colab-df-convert');\n",
              "        buttonEl.style.display =\n",
              "          google.colab.kernel.accessAllowed ? 'block' : 'none';\n",
              "\n",
              "        async function convertToInteractive(key) {\n",
              "          const element = document.querySelector('#df-6137c9a4-3ad7-4c3f-b1b3-41d6061d9047');\n",
              "          const dataTable =\n",
              "            await google.colab.kernel.invokeFunction('convertToInteractive',\n",
              "                                                     [key], {});\n",
              "          if (!dataTable) return;\n",
              "\n",
              "          const docLinkHtml = 'Like what you see? Visit the ' +\n",
              "            '<a target=\"_blank\" href=https://colab.research.google.com/notebooks/data_table.ipynb>data table notebook</a>'\n",
              "            + ' to learn more about interactive tables.';\n",
              "          element.innerHTML = '';\n",
              "          dataTable['output_type'] = 'display_data';\n",
              "          await google.colab.output.renderOutput(dataTable, element);\n",
              "          const docLink = document.createElement('div');\n",
              "          docLink.innerHTML = docLinkHtml;\n",
              "          element.appendChild(docLink);\n",
              "        }\n",
              "      </script>\n",
              "    </div>\n",
              "  </div>\n",
              "  "
            ]
          },
          "metadata": {},
          "execution_count": 97
        }
      ]
    },
    {
      "cell_type": "code",
      "source": [
        "data.isna().sum()"
      ],
      "metadata": {
        "colab": {
          "base_uri": "https://localhost:8080/"
        },
        "id": "qdoU6BnKs9Yz",
        "outputId": "49da07c9-0631-4213-c142-b632f76d4a6f"
      },
      "execution_count": 98,
      "outputs": [
        {
          "output_type": "execute_result",
          "data": {
            "text/plain": [
              "Rate                 0\n",
              "Review               0\n",
              "Label                0\n",
              "Preprocess_Review    0\n",
              "dtype: int64"
            ]
          },
          "metadata": {},
          "execution_count": 98
        }
      ]
    },
    {
      "cell_type": "code",
      "source": [
        "data[data[\"Preprocess_Review\"]==\"\"]"
      ],
      "metadata": {
        "colab": {
          "base_uri": "https://localhost:8080/",
          "height": 519
        },
        "id": "jW2uz3Jn07Ov",
        "outputId": "9274da40-db35-4e27-c86d-ed26a7677d08"
      },
      "execution_count": 99,
      "outputs": [
        {
          "output_type": "execute_result",
          "data": {
            "text/plain": [
              "      Rate                                  Review  Label Preprocess_Review\n",
              "491    9.0                             Mang đi năm      1                  \n",
              "1755   9.4                    với món này mất thôi      1                  \n",
              "2598  10.0                         Đánh giá ở dưới      1                  \n",
              "4063     0                                      Đã      1                  \n",
              "4379     0                          Cũng ra gì đấy      1                  \n",
              "5234     0                           Ăn cũng ra gì      1                  \n",
              "5305     0                                  Sẽ đến      1                  \n",
              "5543     0                                 Đang ăn      1                  \n",
              "5645     0   Lần nào đến cũng gọi loại này để uống      1                  \n",
              "834    7.0                               🌸 Vị trí:      0                  \n",
              "864    8.8                                 👍👍👍👍👍👍👍      0                  \n",
              "897    7.2                               🌸 Vị trí:      0                  \n",
              "649    2.2                                 Phục vụ     -1                  \n",
              "2327   4.4                                  Qua do     -1                  \n",
              "2749   4.2  Cá nhân thấy càng ngày chất lượng càng     -1                  "
            ],
            "text/html": [
              "\n",
              "  <div id=\"df-67806ee4-1ec5-47f8-86f9-468078cc6a31\">\n",
              "    <div class=\"colab-df-container\">\n",
              "      <div>\n",
              "<style scoped>\n",
              "    .dataframe tbody tr th:only-of-type {\n",
              "        vertical-align: middle;\n",
              "    }\n",
              "\n",
              "    .dataframe tbody tr th {\n",
              "        vertical-align: top;\n",
              "    }\n",
              "\n",
              "    .dataframe thead th {\n",
              "        text-align: right;\n",
              "    }\n",
              "</style>\n",
              "<table border=\"1\" class=\"dataframe\">\n",
              "  <thead>\n",
              "    <tr style=\"text-align: right;\">\n",
              "      <th></th>\n",
              "      <th>Rate</th>\n",
              "      <th>Review</th>\n",
              "      <th>Label</th>\n",
              "      <th>Preprocess_Review</th>\n",
              "    </tr>\n",
              "  </thead>\n",
              "  <tbody>\n",
              "    <tr>\n",
              "      <th>491</th>\n",
              "      <td>9.0</td>\n",
              "      <td>Mang đi năm</td>\n",
              "      <td>1</td>\n",
              "      <td></td>\n",
              "    </tr>\n",
              "    <tr>\n",
              "      <th>1755</th>\n",
              "      <td>9.4</td>\n",
              "      <td>với món này mất thôi</td>\n",
              "      <td>1</td>\n",
              "      <td></td>\n",
              "    </tr>\n",
              "    <tr>\n",
              "      <th>2598</th>\n",
              "      <td>10.0</td>\n",
              "      <td>Đánh giá ở dưới</td>\n",
              "      <td>1</td>\n",
              "      <td></td>\n",
              "    </tr>\n",
              "    <tr>\n",
              "      <th>4063</th>\n",
              "      <td>0</td>\n",
              "      <td>Đã</td>\n",
              "      <td>1</td>\n",
              "      <td></td>\n",
              "    </tr>\n",
              "    <tr>\n",
              "      <th>4379</th>\n",
              "      <td>0</td>\n",
              "      <td>Cũng ra gì đấy</td>\n",
              "      <td>1</td>\n",
              "      <td></td>\n",
              "    </tr>\n",
              "    <tr>\n",
              "      <th>5234</th>\n",
              "      <td>0</td>\n",
              "      <td>Ăn cũng ra gì</td>\n",
              "      <td>1</td>\n",
              "      <td></td>\n",
              "    </tr>\n",
              "    <tr>\n",
              "      <th>5305</th>\n",
              "      <td>0</td>\n",
              "      <td>Sẽ đến</td>\n",
              "      <td>1</td>\n",
              "      <td></td>\n",
              "    </tr>\n",
              "    <tr>\n",
              "      <th>5543</th>\n",
              "      <td>0</td>\n",
              "      <td>Đang ăn</td>\n",
              "      <td>1</td>\n",
              "      <td></td>\n",
              "    </tr>\n",
              "    <tr>\n",
              "      <th>5645</th>\n",
              "      <td>0</td>\n",
              "      <td>Lần nào đến cũng gọi loại này để uống</td>\n",
              "      <td>1</td>\n",
              "      <td></td>\n",
              "    </tr>\n",
              "    <tr>\n",
              "      <th>834</th>\n",
              "      <td>7.0</td>\n",
              "      <td>🌸 Vị trí:</td>\n",
              "      <td>0</td>\n",
              "      <td></td>\n",
              "    </tr>\n",
              "    <tr>\n",
              "      <th>864</th>\n",
              "      <td>8.8</td>\n",
              "      <td>👍👍👍👍👍👍👍</td>\n",
              "      <td>0</td>\n",
              "      <td></td>\n",
              "    </tr>\n",
              "    <tr>\n",
              "      <th>897</th>\n",
              "      <td>7.2</td>\n",
              "      <td>🌸 Vị trí:</td>\n",
              "      <td>0</td>\n",
              "      <td></td>\n",
              "    </tr>\n",
              "    <tr>\n",
              "      <th>649</th>\n",
              "      <td>2.2</td>\n",
              "      <td>Phục vụ</td>\n",
              "      <td>-1</td>\n",
              "      <td></td>\n",
              "    </tr>\n",
              "    <tr>\n",
              "      <th>2327</th>\n",
              "      <td>4.4</td>\n",
              "      <td>Qua do</td>\n",
              "      <td>-1</td>\n",
              "      <td></td>\n",
              "    </tr>\n",
              "    <tr>\n",
              "      <th>2749</th>\n",
              "      <td>4.2</td>\n",
              "      <td>Cá nhân thấy càng ngày chất lượng càng</td>\n",
              "      <td>-1</td>\n",
              "      <td></td>\n",
              "    </tr>\n",
              "  </tbody>\n",
              "</table>\n",
              "</div>\n",
              "      <button class=\"colab-df-convert\" onclick=\"convertToInteractive('df-67806ee4-1ec5-47f8-86f9-468078cc6a31')\"\n",
              "              title=\"Convert this dataframe to an interactive table.\"\n",
              "              style=\"display:none;\">\n",
              "        \n",
              "  <svg xmlns=\"http://www.w3.org/2000/svg\" height=\"24px\"viewBox=\"0 0 24 24\"\n",
              "       width=\"24px\">\n",
              "    <path d=\"M0 0h24v24H0V0z\" fill=\"none\"/>\n",
              "    <path d=\"M18.56 5.44l.94 2.06.94-2.06 2.06-.94-2.06-.94-.94-2.06-.94 2.06-2.06.94zm-11 1L8.5 8.5l.94-2.06 2.06-.94-2.06-.94L8.5 2.5l-.94 2.06-2.06.94zm10 10l.94 2.06.94-2.06 2.06-.94-2.06-.94-.94-2.06-.94 2.06-2.06.94z\"/><path d=\"M17.41 7.96l-1.37-1.37c-.4-.4-.92-.59-1.43-.59-.52 0-1.04.2-1.43.59L10.3 9.45l-7.72 7.72c-.78.78-.78 2.05 0 2.83L4 21.41c.39.39.9.59 1.41.59.51 0 1.02-.2 1.41-.59l7.78-7.78 2.81-2.81c.8-.78.8-2.07 0-2.86zM5.41 20L4 18.59l7.72-7.72 1.47 1.35L5.41 20z\"/>\n",
              "  </svg>\n",
              "      </button>\n",
              "      \n",
              "  <style>\n",
              "    .colab-df-container {\n",
              "      display:flex;\n",
              "      flex-wrap:wrap;\n",
              "      gap: 12px;\n",
              "    }\n",
              "\n",
              "    .colab-df-convert {\n",
              "      background-color: #E8F0FE;\n",
              "      border: none;\n",
              "      border-radius: 50%;\n",
              "      cursor: pointer;\n",
              "      display: none;\n",
              "      fill: #1967D2;\n",
              "      height: 32px;\n",
              "      padding: 0 0 0 0;\n",
              "      width: 32px;\n",
              "    }\n",
              "\n",
              "    .colab-df-convert:hover {\n",
              "      background-color: #E2EBFA;\n",
              "      box-shadow: 0px 1px 2px rgba(60, 64, 67, 0.3), 0px 1px 3px 1px rgba(60, 64, 67, 0.15);\n",
              "      fill: #174EA6;\n",
              "    }\n",
              "\n",
              "    [theme=dark] .colab-df-convert {\n",
              "      background-color: #3B4455;\n",
              "      fill: #D2E3FC;\n",
              "    }\n",
              "\n",
              "    [theme=dark] .colab-df-convert:hover {\n",
              "      background-color: #434B5C;\n",
              "      box-shadow: 0px 1px 3px 1px rgba(0, 0, 0, 0.15);\n",
              "      filter: drop-shadow(0px 1px 2px rgba(0, 0, 0, 0.3));\n",
              "      fill: #FFFFFF;\n",
              "    }\n",
              "  </style>\n",
              "\n",
              "      <script>\n",
              "        const buttonEl =\n",
              "          document.querySelector('#df-67806ee4-1ec5-47f8-86f9-468078cc6a31 button.colab-df-convert');\n",
              "        buttonEl.style.display =\n",
              "          google.colab.kernel.accessAllowed ? 'block' : 'none';\n",
              "\n",
              "        async function convertToInteractive(key) {\n",
              "          const element = document.querySelector('#df-67806ee4-1ec5-47f8-86f9-468078cc6a31');\n",
              "          const dataTable =\n",
              "            await google.colab.kernel.invokeFunction('convertToInteractive',\n",
              "                                                     [key], {});\n",
              "          if (!dataTable) return;\n",
              "\n",
              "          const docLinkHtml = 'Like what you see? Visit the ' +\n",
              "            '<a target=\"_blank\" href=https://colab.research.google.com/notebooks/data_table.ipynb>data table notebook</a>'\n",
              "            + ' to learn more about interactive tables.';\n",
              "          element.innerHTML = '';\n",
              "          dataTable['output_type'] = 'display_data';\n",
              "          await google.colab.output.renderOutput(dataTable, element);\n",
              "          const docLink = document.createElement('div');\n",
              "          docLink.innerHTML = docLinkHtml;\n",
              "          element.appendChild(docLink);\n",
              "        }\n",
              "      </script>\n",
              "    </div>\n",
              "  </div>\n",
              "  "
            ]
          },
          "metadata": {},
          "execution_count": 99
        }
      ]
    },
    {
      "cell_type": "code",
      "source": [
        "data.drop(data[data['Preprocess_Review']==\"\"].index, inplace=True)"
      ],
      "metadata": {
        "id": "b97zj_iP1lUK"
      },
      "execution_count": 100,
      "outputs": []
    },
    {
      "cell_type": "code",
      "source": [
        "data.shape"
      ],
      "metadata": {
        "colab": {
          "base_uri": "https://localhost:8080/"
        },
        "id": "1wyAQozM18IY",
        "outputId": "f6fc167e-e370-49b0-87f4-076ead712962"
      },
      "execution_count": 101,
      "outputs": [
        {
          "output_type": "execute_result",
          "data": {
            "text/plain": [
              "(11136, 4)"
            ]
          },
          "metadata": {},
          "execution_count": 101
        }
      ]
    },
    {
      "cell_type": "markdown",
      "source": [
        "# Lưu dữ liệu đã tiền xử lí"
      ],
      "metadata": {
        "id": "5WuO6CqzNf9k"
      }
    },
    {
      "cell_type": "code",
      "source": [
        "data.to_excel(\"/content/drive/MyDrive/ML/Final_Project/2. data_clean/final_data.xlsx\", index=False)"
      ],
      "metadata": {
        "id": "wNXBrRcbJkk0"
      },
      "execution_count": 84,
      "outputs": []
    },
    {
      "cell_type": "markdown",
      "source": [
        "# Trực quan hóa dữ liệu đã tiền xử lí"
      ],
      "metadata": {
        "id": "VKzcRg_xMgml"
      }
    },
    {
      "cell_type": "code",
      "source": [
        "plt.figure(figsize=(5,3))\n",
        "sb.countplot(data=data, x=\"Label\").set_title('Thống kê dữ liệu')\n",
        "plt.show()"
      ],
      "metadata": {
        "colab": {
          "base_uri": "https://localhost:8080/",
          "height": 335
        },
        "id": "N9NF0BTNMmCY",
        "outputId": "feb9bfee-160a-42bd-ffa6-d2b4abfb51fe"
      },
      "execution_count": 102,
      "outputs": [
        {
          "output_type": "display_data",
          "data": {
            "text/plain": [
              "<Figure size 500x300 with 1 Axes>"
            ],
            "image/png": "[encoded data removed]"
          },
          "metadata": {}
        }
      ]
    },
    {
      "cell_type": "code",
      "source": [
        "df_len_comment = data[\"Preprocess_Review\"].apply(lambda text: sentence_len(text))\n",
        "print('Độ dài trung bình của bình luận trong bộ dữ liệu:', int(np.mean(df_len_headline)), 'từ')"
      ],
      "metadata": {
        "colab": {
          "base_uri": "https://localhost:8080/"
        },
        "id": "odyHpiE4zyss",
        "outputId": "b0bb73de-1b70-4f4b-c3e4-de9bbc10b265"
      },
      "execution_count": 103,
      "outputs": [
        {
          "output_type": "stream",
          "name": "stdout",
          "text": [
            "Độ dài trung bình của bình luận trong bộ dữ liệu: 69 từ\n"
          ]
        }
      ]
    },
    {
      "cell_type": "code",
      "source": [
        "plt.figure(figsize=(10, 5))\n",
        "plt.title(\"Thống kê số từ trong bình luận sau bước tiền xử lí\")\n",
        "plt.xlabel('Số từ')\n",
        "plt.ylabel('Số bình luận')\n",
        "plt.hist(np.array(df_len_comment), bins=int(math.sqrt(len(df_len_comment))));"
      ],
      "metadata": {
        "colab": {
          "base_uri": "https://localhost:8080/",
          "height": 489
        },
        "id": "pEx4kZRjzrPj",
        "outputId": "7ee28542-5454-43e3-a143-0a7cb1f80b98"
      },
      "execution_count": 104,
      "outputs": [
        {
          "output_type": "display_data",
          "data": {
            "text/plain": [
              "<Figure size 1000x500 with 1 Axes>"
            ],
            "image/png": "[encoded data removed]"
          },
          "metadata": {}
        }
      ]
    }
  ]
}