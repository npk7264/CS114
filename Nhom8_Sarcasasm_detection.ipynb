{
  "nbformat": 4,
  "nbformat_minor": 0,
  "metadata": {
    "colab": {
      "provenance": [],
      "toc_visible": true
    },
    "kernelspec": {
      "name": "python3",
      "display_name": "Python 3"
    },
    "language_info": {
      "name": "python"
    }
  },
  "cells": [
    {
      "cell_type": "markdown",
      "source": [
        "Nhóm \"Nhom8\":\n",
        "\n",
        "\n",
        "1.   Bùi Duy Anh Đức - 20520047\n",
        "2.   Nguyễn Phúc Khang - 20520569\n",
        "3.   Võ Trung Kiên - 20521492\n",
        "4.   Hà Văn Linh - 20521529\n",
        "\n"
      ],
      "metadata": {
        "id": "F8ivrwnQzpiW"
      }
    },
    {
      "cell_type": "code",
      "source": [
        "from google.colab import drive\n",
        "drive.mount(\"/content/drive\")"
      ],
      "metadata": {
        "colab": {
          "base_uri": "https://localhost:8080/"
        },
        "id": "Vtvxpdyh-tMY",
        "outputId": "984fdd8d-8450-4864-b2a3-5862ce26e7ca"
      },
      "execution_count": 86,
      "outputs": [
        {
          "output_type": "stream",
          "name": "stdout",
          "text": [
            "Drive already mounted at /content/drive; to attempt to forcibly remount, call drive.mount(\"/content/drive\", force_remount=True).\n"
          ]
        }
      ]
    },
    {
      "cell_type": "code",
      "source": [
        "import pandas as pd\n",
        "import numpy as np\n",
        "import matplotlib.pyplot as plt\n",
        "import seaborn as sb\n",
        "import math\n",
        "import os\n",
        "from tqdm.notebook import tqdm"
      ],
      "metadata": {
        "id": "Q4MmBBgHWLyz"
      },
      "execution_count": 109,
      "outputs": []
    },
    {
      "cell_type": "code",
      "source": [
        "!pip install gdown"
      ],
      "metadata": {
        "id": "c40AuyXWqqC3"
      },
      "execution_count": null,
      "outputs": []
    },
    {
      "cell_type": "code",
      "source": [
        "import gdown"
      ],
      "metadata": {
        "id": "uKmAW9PFqrvU"
      },
      "execution_count": 111,
      "outputs": []
    },
    {
      "cell_type": "markdown",
      "source": [
        "# Load data"
      ],
      "metadata": {
        "id": "NbxuDAxNBzlL"
      }
    },
    {
      "cell_type": "markdown",
      "source": [
        "Download dataset tổng hợp của lớp từ Google drive"
      ],
      "metadata": {
        "id": "R8Iu3TKPsUws"
      }
    },
    {
      "cell_type": "code",
      "source": [
        "%cd /content\n",
        "!gdown https://drive.google.com/file/d/1UMe2eh7v--seqWhDqmAh6d5JnQ43yh0A/view?usp=sharing --fuzzy"
      ],
      "metadata": {
        "colab": {
          "base_uri": "https://localhost:8080/"
        },
        "id": "WzVx9oSPsT9C",
        "outputId": "57958a39-f26c-4ec6-8097-02295e23494f"
      },
      "execution_count": 112,
      "outputs": [
        {
          "output_type": "stream",
          "name": "stdout",
          "text": [
            "/content\n",
            "Downloading...\n",
            "From: https://drive.google.com/uc?id=1UMe2eh7v--seqWhDqmAh6d5JnQ43yh0A\n",
            "To: /content/class_data.json\n",
            "100% 1.17M/1.17M [00:00<00:00, 43.9MB/s]\n"
          ]
        }
      ]
    },
    {
      "cell_type": "code",
      "source": [
        "data = pd.read_json(\"/content/class_data.json\")\n",
        "data.head(10)"
      ],
      "metadata": {
        "colab": {
          "base_uri": "https://localhost:8080/",
          "height": 363
        },
        "id": "D5tr_vxV9sfx",
        "outputId": "66477422-2243-4b68-b6dd-15c947099a28"
      },
      "execution_count": 113,
      "outputs": [
        {
          "output_type": "execute_result",
          "data": {
            "text/plain": [
              "                                            headline  is_sarcastic\n",
              "0   Tuyển Việt Nam nhận tin vui trước trận gặp Syria             0\n",
              "1  Lịch thi đấu của U17 Việt Nam tại VCK U17 châu...             0\n",
              "2  Lãi suất ngày 17/6: Nhiều ngân hàng giảm ngay ...             0\n",
              "3  Hành khách 'đại náo' bằng miệng khiến Tề Thiên...             1\n",
              "4                  'Giật gân' về sự lạc hậu của y tế             1\n",
              "5        Tham nhũng vặt luôn có mặt trên từng cây số             1\n",
              "6                          Đảo Ngọc ngập nhờ... nước             1\n",
              "7                                     Luật 'đá' luật             1\n",
              "8  Giá xăng dầu hôm nay 17/6: Tìm thấy động lực đ...             0\n",
              "9     Giá vàng hôm nay 17/6: Tăng nhẹ do USD suy yếu             0"
            ],
            "text/html": [
              "\n",
              "  <div id=\"df-e1befd3b-278f-4069-92ee-15ef6af3dcde\">\n",
              "    <div class=\"colab-df-container\">\n",
              "      <div>\n",
              "<style scoped>\n",
              "    .dataframe tbody tr th:only-of-type {\n",
              "        vertical-align: middle;\n",
              "    }\n",
              "\n",
              "    .dataframe tbody tr th {\n",
              "        vertical-align: top;\n",
              "    }\n",
              "\n",
              "    .dataframe thead th {\n",
              "        text-align: right;\n",
              "    }\n",
              "</style>\n",
              "<table border=\"1\" class=\"dataframe\">\n",
              "  <thead>\n",
              "    <tr style=\"text-align: right;\">\n",
              "      <th></th>\n",
              "      <th>headline</th>\n",
              "      <th>is_sarcastic</th>\n",
              "    </tr>\n",
              "  </thead>\n",
              "  <tbody>\n",
              "    <tr>\n",
              "      <th>0</th>\n",
              "      <td>Tuyển Việt Nam nhận tin vui trước trận gặp Syria</td>\n",
              "      <td>0</td>\n",
              "    </tr>\n",
              "    <tr>\n",
              "      <th>1</th>\n",
              "      <td>Lịch thi đấu của U17 Việt Nam tại VCK U17 châu...</td>\n",
              "      <td>0</td>\n",
              "    </tr>\n",
              "    <tr>\n",
              "      <th>2</th>\n",
              "      <td>Lãi suất ngày 17/6: Nhiều ngân hàng giảm ngay ...</td>\n",
              "      <td>0</td>\n",
              "    </tr>\n",
              "    <tr>\n",
              "      <th>3</th>\n",
              "      <td>Hành khách 'đại náo' bằng miệng khiến Tề Thiên...</td>\n",
              "      <td>1</td>\n",
              "    </tr>\n",
              "    <tr>\n",
              "      <th>4</th>\n",
              "      <td>'Giật gân' về sự lạc hậu của y tế</td>\n",
              "      <td>1</td>\n",
              "    </tr>\n",
              "    <tr>\n",
              "      <th>5</th>\n",
              "      <td>Tham nhũng vặt luôn có mặt trên từng cây số</td>\n",
              "      <td>1</td>\n",
              "    </tr>\n",
              "    <tr>\n",
              "      <th>6</th>\n",
              "      <td>Đảo Ngọc ngập nhờ... nước</td>\n",
              "      <td>1</td>\n",
              "    </tr>\n",
              "    <tr>\n",
              "      <th>7</th>\n",
              "      <td>Luật 'đá' luật</td>\n",
              "      <td>1</td>\n",
              "    </tr>\n",
              "    <tr>\n",
              "      <th>8</th>\n",
              "      <td>Giá xăng dầu hôm nay 17/6: Tìm thấy động lực đ...</td>\n",
              "      <td>0</td>\n",
              "    </tr>\n",
              "    <tr>\n",
              "      <th>9</th>\n",
              "      <td>Giá vàng hôm nay 17/6: Tăng nhẹ do USD suy yếu</td>\n",
              "      <td>0</td>\n",
              "    </tr>\n",
              "  </tbody>\n",
              "</table>\n",
              "</div>\n",
              "      <button class=\"colab-df-convert\" onclick=\"convertToInteractive('df-e1befd3b-278f-4069-92ee-15ef6af3dcde')\"\n",
              "              title=\"Convert this dataframe to an interactive table.\"\n",
              "              style=\"display:none;\">\n",
              "        \n",
              "  <svg xmlns=\"http://www.w3.org/2000/svg\" height=\"24px\"viewBox=\"0 0 24 24\"\n",
              "       width=\"24px\">\n",
              "    <path d=\"M0 0h24v24H0V0z\" fill=\"none\"/>\n",
              "    <path d=\"M18.56 5.44l.94 2.06.94-2.06 2.06-.94-2.06-.94-.94-2.06-.94 2.06-2.06.94zm-11 1L8.5 8.5l.94-2.06 2.06-.94-2.06-.94L8.5 2.5l-.94 2.06-2.06.94zm10 10l.94 2.06.94-2.06 2.06-.94-2.06-.94-.94-2.06-.94 2.06-2.06.94z\"/><path d=\"M17.41 7.96l-1.37-1.37c-.4-.4-.92-.59-1.43-.59-.52 0-1.04.2-1.43.59L10.3 9.45l-7.72 7.72c-.78.78-.78 2.05 0 2.83L4 21.41c.39.39.9.59 1.41.59.51 0 1.02-.2 1.41-.59l7.78-7.78 2.81-2.81c.8-.78.8-2.07 0-2.86zM5.41 20L4 18.59l7.72-7.72 1.47 1.35L5.41 20z\"/>\n",
              "  </svg>\n",
              "      </button>\n",
              "      \n",
              "  <style>\n",
              "    .colab-df-container {\n",
              "      display:flex;\n",
              "      flex-wrap:wrap;\n",
              "      gap: 12px;\n",
              "    }\n",
              "\n",
              "    .colab-df-convert {\n",
              "      background-color: #E8F0FE;\n",
              "      border: none;\n",
              "      border-radius: 50%;\n",
              "      cursor: pointer;\n",
              "      display: none;\n",
              "      fill: #1967D2;\n",
              "      height: 32px;\n",
              "      padding: 0 0 0 0;\n",
              "      width: 32px;\n",
              "    }\n",
              "\n",
              "    .colab-df-convert:hover {\n",
              "      background-color: #E2EBFA;\n",
              "      box-shadow: 0px 1px 2px rgba(60, 64, 67, 0.3), 0px 1px 3px 1px rgba(60, 64, 67, 0.15);\n",
              "      fill: #174EA6;\n",
              "    }\n",
              "\n",
              "    [theme=dark] .colab-df-convert {\n",
              "      background-color: #3B4455;\n",
              "      fill: #D2E3FC;\n",
              "    }\n",
              "\n",
              "    [theme=dark] .colab-df-convert:hover {\n",
              "      background-color: #434B5C;\n",
              "      box-shadow: 0px 1px 3px 1px rgba(0, 0, 0, 0.15);\n",
              "      filter: drop-shadow(0px 1px 2px rgba(0, 0, 0, 0.3));\n",
              "      fill: #FFFFFF;\n",
              "    }\n",
              "  </style>\n",
              "\n",
              "      <script>\n",
              "        const buttonEl =\n",
              "          document.querySelector('#df-e1befd3b-278f-4069-92ee-15ef6af3dcde button.colab-df-convert');\n",
              "        buttonEl.style.display =\n",
              "          google.colab.kernel.accessAllowed ? 'block' : 'none';\n",
              "\n",
              "        async function convertToInteractive(key) {\n",
              "          const element = document.querySelector('#df-e1befd3b-278f-4069-92ee-15ef6af3dcde');\n",
              "          const dataTable =\n",
              "            await google.colab.kernel.invokeFunction('convertToInteractive',\n",
              "                                                     [key], {});\n",
              "          if (!dataTable) return;\n",
              "\n",
              "          const docLinkHtml = 'Like what you see? Visit the ' +\n",
              "            '<a target=\"_blank\" href=https://colab.research.google.com/notebooks/data_table.ipynb>data table notebook</a>'\n",
              "            + ' to learn more about interactive tables.';\n",
              "          element.innerHTML = '';\n",
              "          dataTable['output_type'] = 'display_data';\n",
              "          await google.colab.output.renderOutput(dataTable, element);\n",
              "          const docLink = document.createElement('div');\n",
              "          docLink.innerHTML = docLinkHtml;\n",
              "          element.appendChild(docLink);\n",
              "        }\n",
              "      </script>\n",
              "    </div>\n",
              "  </div>\n",
              "  "
            ]
          },
          "metadata": {},
          "execution_count": 113
        }
      ]
    },
    {
      "cell_type": "markdown",
      "source": [
        "Visualize số lượng mỗi lớp"
      ],
      "metadata": {
        "id": "5mkQO8gzWnTi"
      }
    },
    {
      "cell_type": "code",
      "source": [
        "plt.figure(figsize=(5,5))\n",
        "sb.countplot(data=data, x=\"is_sarcastic\").set_title('Data')\n",
        "plt.show()"
      ],
      "metadata": {
        "colab": {
          "base_uri": "https://localhost:8080/",
          "height": 487
        },
        "id": "8lZflbEr_djH",
        "outputId": "7dd22054-b2e2-4b43-d3c6-e4878a016e73"
      },
      "execution_count": 114,
      "outputs": [
        {
          "output_type": "display_data",
          "data": {
            "text/plain": [
              "<Figure size 500x500 with 1 Axes>"
            ],
            "image/png": "[encoded data removed]"
          },
          "metadata": {}
        }
      ]
    },
    {
      "cell_type": "markdown",
      "source": [
        "Tính độ dài trung bình của một bản tin thông thường"
      ],
      "metadata": {
        "id": "bfu61Nl2XHZ_"
      }
    },
    {
      "cell_type": "code",
      "source": [
        "def sentence_len(text):\n",
        "  return len(text.split(' '));\n",
        "\n",
        "df_len_headline = data[\"headline\"].apply(lambda text: sentence_len(text))\n",
        "print('Độ dài trung bình của tiêu đề bài báo trong bộ dữ liệu:', int(np.mean(df_len_headline)), 'từ')"
      ],
      "metadata": {
        "colab": {
          "base_uri": "https://localhost:8080/"
        },
        "id": "5xGxcTjSXHvr",
        "outputId": "b4b5bc57-efd7-40fe-9680-7dd902ea130d"
      },
      "execution_count": 115,
      "outputs": [
        {
          "output_type": "stream",
          "name": "stdout",
          "text": [
            "Độ dài trung bình của tiêu đề bài báo trong bộ dữ liệu: 12 từ\n"
          ]
        }
      ]
    },
    {
      "cell_type": "markdown",
      "source": [
        "Vẽ histogram để quan sát phân bố về độ dài các datapoint"
      ],
      "metadata": {
        "id": "Cfsafi_gYscs"
      }
    },
    {
      "cell_type": "code",
      "source": [
        "plt.figure(figsize=(16, 5))\n",
        "plt.title(\"Headline length\")\n",
        "plt.xlabel('Length')\n",
        "plt.ylabel('Number of headlines')\n",
        "plt.hist(np.array(df_len_headline), bins=int(math.sqrt(len(df_len_headline))), histtype='step');"
      ],
      "metadata": {
        "colab": {
          "base_uri": "https://localhost:8080/",
          "height": 412
        },
        "id": "ZCRH_OJ7YEHU",
        "outputId": "7a6d3728-97a1-452f-a652-6fab923678db"
      },
      "execution_count": 116,
      "outputs": [
        {
          "output_type": "display_data",
          "data": {
            "text/plain": [
              "<Figure size 1600x500 with 1 Axes>"
            ],
            "image/png": "[encoded data removed]"
          },
          "metadata": {}
        }
      ]
    },
    {
      "cell_type": "markdown",
      "source": [
        "**Nhận xét:** phần lớn các bài báo có từ hơn 0 đến 25 từ"
      ],
      "metadata": {
        "id": "P7q1Yt8TY0Tc"
      }
    },
    {
      "cell_type": "markdown",
      "source": [
        "# Data preprocessing"
      ],
      "metadata": {
        "id": "s9rp2-yUB6ZD"
      }
    },
    {
      "cell_type": "code",
      "source": [
        "import regex as re"
      ],
      "metadata": {
        "id": "-Zs_0YnDZ372"
      },
      "execution_count": 117,
      "outputs": []
    },
    {
      "cell_type": "markdown",
      "source": [
        "## 1. Xoá HMTL tag"
      ],
      "metadata": {
        "id": "s2uwYu_AZMqz"
      }
    },
    {
      "cell_type": "code",
      "source": [
        "def remove_html(text):\n",
        "  return re.sub(r'<[^>]*>', '', text)"
      ],
      "metadata": {
        "id": "PUqMLW9hZLbI"
      },
      "execution_count": 118,
      "outputs": []
    },
    {
      "cell_type": "markdown",
      "source": [
        "## 2. Chuẩn hóa bảng mã Unicode"
      ],
      "metadata": {
        "id": "o7CdUlmoZ644"
      }
    },
    {
      "cell_type": "code",
      "source": [
        "uniChars = \"àáảãạâầấẩẫậăằắẳẵặèéẻẽẹêềếểễệđìíỉĩịòóỏõọôồốổỗộơờớởỡợùúủũụưừứửữựỳýỷỹỵÀÁẢÃẠÂẦẤẨẪẬĂẰẮẲẴẶÈÉẺẼẸÊỀẾỂỄỆĐÌÍỈĨỊÒÓỎÕỌÔỒỐỔỖỘƠỜỚỞỠỢÙÚỦŨỤƯỪỨỬỮỰỲÝỶỸỴÂĂĐÔƠƯ\"\n",
        "unsignChars = \"aaaaaaaaaaaaaaaaaeeeeeeeeeeediiiiiooooooooooooooooouuuuuuuuuuuyyyyyAAAAAAAAAAAAAAAAAEEEEEEEEEEEDIIIOOOOOOOOOOOOOOOOOOOUUUUUUUUUUUYYYYYAADOOU\"\n",
        "\n",
        "# Hàm tạo dict để convert định dạng cũ sang định dạng mới\n",
        "def loaddicchar():\n",
        "  dic = {}\n",
        "  char1252 = 'à|á|ả|ã|ạ|ầ|ấ|ẩ|ẫ|ậ|ằ|ắ|ẳ|ẵ|ặ|è|é|ẻ|ẽ|ẹ|ề|ế|ể|ễ|ệ|ì|í|ỉ|ĩ|ị|ò|ó|ỏ|õ|ọ|ồ|ố|ổ|ỗ|ộ|ờ|ớ|ở|ỡ|ợ|ù|ú|ủ|ũ|ụ|ừ|ứ|ử|ữ|ự|ỳ|ý|ỷ|ỹ|ỵ|À|Á|Ả|Ã|Ạ|Ầ|Ấ|Ẩ|Ẫ|Ậ|Ằ|Ắ|Ẳ|Ẵ|Ặ|È|É|Ẻ|Ẽ|Ẹ|Ề|Ế|Ể|Ễ|Ệ|Ì|Í|Ỉ|Ĩ|Ị|Ò|Ó|Ỏ|Õ|Ọ|Ồ|Ố|Ổ|Ỗ|Ộ|Ờ|Ớ|Ở|Ỡ|Ợ|Ù|Ú|Ủ|Ũ|Ụ|Ừ|Ứ|Ử|Ữ|Ự|Ỳ|Ý|Ỷ|Ỹ|Ỵ'.split('|')\n",
        "  charutf8 = \"à|á|ả|ã|ạ|ầ|ấ|ẩ|ẫ|ậ|ằ|ắ|ẳ|ẵ|ặ|è|é|ẻ|ẽ|ẹ|ề|ế|ể|ễ|ệ|ì|í|ỉ|ĩ|ị|ò|ó|ỏ|õ|ọ|ồ|ố|ổ|ỗ|ộ|ờ|ớ|ở|ỡ|ợ|ù|ú|ủ|ũ|ụ|ừ|ứ|ử|ữ|ự|ỳ|ý|ỷ|ỹ|ỵ|À|Á|Ả|Ã|Ạ|Ầ|Ấ|Ẩ|Ẫ|Ậ|Ằ|Ắ|Ẳ|Ẵ|Ặ|È|É|Ẻ|Ẽ|Ẹ|Ề|Ế|Ể|Ễ|Ệ|Ì|Í|Ỉ|Ĩ|Ị|Ò|Ó|Ỏ|Õ|Ọ|Ồ|Ố|Ổ|Ỗ|Ộ|Ờ|Ớ|Ở|Ỡ|Ợ|Ù|Ú|Ủ|Ũ|Ụ|Ừ|Ứ|Ử|Ữ|Ự|Ỳ|Ý|Ỷ|Ỹ|Ỵ\".split('|')\n",
        "  for i in range(len(char1252)):\n",
        "      dic[char1252[i]] = charutf8[i]\n",
        "  return dic\n",
        "\n",
        "dicchar = loaddicchar()\n",
        "\n",
        "# Đưa toàn bộ dữ liệu qua hàm này để chuẩn hóa lại\n",
        "def convert_unicode(txt):\n",
        "    return re.sub(\n",
        "        r'à|á|ả|ã|ạ|ầ|ấ|ẩ|ẫ|ậ|ằ|ắ|ẳ|ẵ|ặ|è|é|ẻ|ẽ|ẹ|ề|ế|ể|ễ|ệ|ì|í|ỉ|ĩ|ị|ò|ó|ỏ|õ|ọ|ồ|ố|ổ|ỗ|ộ|ờ|ớ|ở|ỡ|ợ|ù|ú|ủ|ũ|ụ|ừ|ứ|ử|ữ|ự|ỳ|ý|ỷ|ỹ|ỵ|À|Á|Ả|Ã|Ạ|Ầ|Ấ|Ẩ|Ẫ|Ậ|Ằ|Ắ|Ẳ|Ẵ|Ặ|È|É|Ẻ|Ẽ|Ẹ|Ề|Ế|Ể|Ễ|Ệ|Ì|Í|Ỉ|Ĩ|Ị|Ò|Ó|Ỏ|Õ|Ọ|Ồ|Ố|Ổ|Ỗ|Ộ|Ờ|Ớ|Ở|Ỡ|Ợ|Ù|Ú|Ủ|Ũ|Ụ|Ừ|Ứ|Ử|Ữ|Ự|Ỳ|Ý|Ỷ|Ỹ|Ỵ',\n",
        "        lambda x: dicchar[x.group()], txt)"
      ],
      "metadata": {
        "id": "fNHeFh9aYDk-"
      },
      "execution_count": 119,
      "outputs": []
    },
    {
      "cell_type": "markdown",
      "source": [
        "## 3. Đưa về dạng viết thường"
      ],
      "metadata": {
        "id": "aAWC5ie5ENCd"
      }
    },
    {
      "cell_type": "code",
      "source": [
        "def to_lower_case(sentence):\n",
        "    sentence = sentence.lower()\n",
        "    return sentence\n",
        "\n",
        "print(to_lower_case('Tôi là dân IT!'))"
      ],
      "metadata": {
        "colab": {
          "base_uri": "https://localhost:8080/"
        },
        "id": "42wq8KZhabg-",
        "outputId": "5730f8b1-7e37-4f8a-cff6-f85cb9789c5f"
      },
      "execution_count": 120,
      "outputs": [
        {
          "output_type": "stream",
          "name": "stdout",
          "text": [
            "tôi là dân it!\n"
          ]
        }
      ]
    },
    {
      "cell_type": "markdown",
      "source": [
        "## 4. Tách từ tiếng Việt"
      ],
      "metadata": {
        "id": "Ow-MMC6pEYhN"
      }
    },
    {
      "cell_type": "code",
      "source": [
        "!pip install underthesea"
      ],
      "metadata": {
        "id": "qXHj__bIEezU"
      },
      "execution_count": null,
      "outputs": []
    },
    {
      "cell_type": "code",
      "source": [
        "from underthesea import word_tokenize\n",
        "\n",
        "# Ví dụ\n",
        "sentence = 'Xin chào, bạn có khỏe không? Rất vui được làm quen!'\n",
        "print(word_tokenize(sentence))\n",
        "print(word_tokenize(sentence, format='text'))"
      ],
      "metadata": {
        "id": "XNchh974ELXu",
        "colab": {
          "base_uri": "https://localhost:8080/"
        },
        "outputId": "7410f15e-e761-4abb-d28b-cfcb7376ce40"
      },
      "execution_count": 122,
      "outputs": [
        {
          "output_type": "stream",
          "name": "stdout",
          "text": [
            "['Xin', 'chào', ',', 'bạn', 'có', 'khỏe', 'không', '?', 'Rất', 'vui', 'được', 'làm quen', '!']\n",
            "Xin chào , bạn có khỏe không ? Rất vui được làm_quen !\n"
          ]
        }
      ]
    },
    {
      "cell_type": "markdown",
      "source": [
        "## 5. Xóa các ký tự không cần thiết"
      ],
      "metadata": {
        "id": "SDg5_KEzFAnI"
      }
    },
    {
      "cell_type": "code",
      "source": [
        "def remove_unnecessary_charactor(document):\n",
        "    # xóa các ký tự không cần thiết\n",
        "    document = re.sub(r'[^\\s\\wáàảãạăắằẳẵặâấầẩẫậéèẻẽẹêếềểễệóòỏõọôốồổỗộơớờởỡợíìỉĩịúùủũụưứừửữựýỳỷỹỵđ_]',' ',document)\n",
        "    # xóa khoảng trắng thừa\n",
        "    document = re.sub(r'\\s+', ' ', document).strip()\n",
        "    # xóa kí tự số\n",
        "    document = re.sub(r'\\w*\\d\\w*', '', document).strip()\n",
        "    return document"
      ],
      "metadata": {
        "id": "_5DynqLEbVBr"
      },
      "execution_count": 123,
      "outputs": []
    },
    {
      "cell_type": "code",
      "source": [
        "document = 'Xin chào, bạn có khỏe không? Rất vui được làm quen 10k!'\n",
        "remove_unnecessary_charactor(document)"
      ],
      "metadata": {
        "colab": {
          "base_uri": "https://localhost:8080/",
          "height": 36
        },
        "id": "Y9Hjb1DqbVce",
        "outputId": "5d59681d-f812-4795-8545-40af95ed753b"
      },
      "execution_count": 124,
      "outputs": [
        {
          "output_type": "execute_result",
          "data": {
            "text/plain": [
              "'Xin chào bạn có khỏe không Rất vui được làm quen'"
            ],
            "application/vnd.google.colaboratory.intrinsic+json": {
              "type": "string"
            }
          },
          "metadata": {},
          "execution_count": 124
        }
      ]
    },
    {
      "cell_type": "markdown",
      "source": [
        "## 6. Hàm tổng hợp các bước trên"
      ],
      "metadata": {
        "id": "It-S-m9_bbEk"
      }
    },
    {
      "cell_type": "code",
      "source": [
        "def text_preprocessing(document):\n",
        "  document = remove_html(document)\n",
        "  document = convert_unicode(document)\n",
        "  document = to_lower_case(document)\n",
        "  document = word_tokenize(document, format='text')\n",
        "  document = remove_unnecessary_charactor(document)\n",
        "  return document"
      ],
      "metadata": {
        "id": "fXuRw1e2bWpd"
      },
      "execution_count": 125,
      "outputs": []
    },
    {
      "cell_type": "code",
      "source": [
        "text_preprocessing('Xin chào, bạn có khỏe không? Rất vui được làm quen!')"
      ],
      "metadata": {
        "colab": {
          "base_uri": "https://localhost:8080/",
          "height": 36
        },
        "id": "7FKb0c54bdhk",
        "outputId": "e55377ee-60e0-4c34-8bfd-86e33fcfc842"
      },
      "execution_count": 126,
      "outputs": [
        {
          "output_type": "execute_result",
          "data": {
            "text/plain": [
              "'xin chào bạn có khỏe không rất vui được làm_quen'"
            ],
            "application/vnd.google.colaboratory.intrinsic+json": {
              "type": "string"
            }
          },
          "metadata": {},
          "execution_count": 126
        }
      ]
    },
    {
      "cell_type": "markdown",
      "source": [
        "##7. Áp dụng các bước data preprocessing cho toàn bộ dữ liệu"
      ],
      "metadata": {
        "id": "khR9vDreb-vG"
      }
    },
    {
      "cell_type": "code",
      "source": [
        "data[\"preprocess_headline\"] = data[\"headline\"].apply(lambda x: text_preprocessing(x))\n",
        "data"
      ],
      "metadata": {
        "id": "v2Xj0RYZb-bZ",
        "colab": {
          "base_uri": "https://localhost:8080/",
          "height": 423
        },
        "outputId": "714977fa-27d0-4349-9446-a1350cd05197"
      },
      "execution_count": 127,
      "outputs": [
        {
          "output_type": "execute_result",
          "data": {
            "text/plain": [
              "                                               headline  is_sarcastic  \\\n",
              "0      Tuyển Việt Nam nhận tin vui trước trận gặp Syria             0   \n",
              "1     Lịch thi đấu của U17 Việt Nam tại VCK U17 châu...             0   \n",
              "2     Lãi suất ngày 17/6: Nhiều ngân hàng giảm ngay ...             0   \n",
              "3     Hành khách 'đại náo' bằng miệng khiến Tề Thiên...             1   \n",
              "4                     'Giật gân' về sự lạc hậu của y tế             1   \n",
              "...                                                 ...           ...   \n",
              "9197  Gặp chiến sĩ PCCC sinh năm 2003: Việc vất vả g...             1   \n",
              "9198  Gặp gỡ Nhà Xoài Đây: Mẹ 9x chia sẻ quan điểm n...             1   \n",
              "9199  CADMIUM - nữ sinh 2k6 khuấy đảo Rap Việt lần đ...             1   \n",
              "9200  Đem tiền về quê sống thử 1 tháng, chàng trai n...             1   \n",
              "9201  Thanh niên nhớ quay quắt vị cơm tấm, bún bò kh...             1   \n",
              "\n",
              "                                    preprocess_headline  \n",
              "0      tuyển việt nam nhận tin_vui trước trận gặp syria  \n",
              "1     lịch thi_đấu của  việt nam tại vck  châu_á  mớ...  \n",
              "2     lãi_suất ngày   nhiều ngân_hàng giảm ngay lãi_...  \n",
              "3     hành_khách đại_náo bằng miệng khiến tề thiên c...  \n",
              "4                       giật_gân về sự lạc_hậu của y_tế  \n",
              "...                                                 ...  \n",
              "9197  gặp chiến_sĩ pccc sinh năm  việc vất_vả giúp m...  \n",
              "9198  gặp_gỡ nhà xoài đây mẹ  x chia_sẻ quan_điểm nu...  \n",
              "9199  cadmium nữ_sinh   khuấy_đảo rap việt lần đầu n...  \n",
              "9200  đem tiền về quê sống thử  tháng chàng trai nhậ...  \n",
              "9201  thanh_niên nhớ quay_quắt vị cơm_tấm bún_bò khi...  \n",
              "\n",
              "[9202 rows x 3 columns]"
            ],
            "text/html": [
              "\n",
              "  <div id=\"df-12ab9001-85db-4c82-aa42-299f8428324b\">\n",
              "    <div class=\"colab-df-container\">\n",
              "      <div>\n",
              "<style scoped>\n",
              "    .dataframe tbody tr th:only-of-type {\n",
              "        vertical-align: middle;\n",
              "    }\n",
              "\n",
              "    .dataframe tbody tr th {\n",
              "        vertical-align: top;\n",
              "    }\n",
              "\n",
              "    .dataframe thead th {\n",
              "        text-align: right;\n",
              "    }\n",
              "</style>\n",
              "<table border=\"1\" class=\"dataframe\">\n",
              "  <thead>\n",
              "    <tr style=\"text-align: right;\">\n",
              "      <th></th>\n",
              "      <th>headline</th>\n",
              "      <th>is_sarcastic</th>\n",
              "      <th>preprocess_headline</th>\n",
              "    </tr>\n",
              "  </thead>\n",
              "  <tbody>\n",
              "    <tr>\n",
              "      <th>0</th>\n",
              "      <td>Tuyển Việt Nam nhận tin vui trước trận gặp Syria</td>\n",
              "      <td>0</td>\n",
              "      <td>tuyển việt nam nhận tin_vui trước trận gặp syria</td>\n",
              "    </tr>\n",
              "    <tr>\n",
              "      <th>1</th>\n",
              "      <td>Lịch thi đấu của U17 Việt Nam tại VCK U17 châu...</td>\n",
              "      <td>0</td>\n",
              "      <td>lịch thi_đấu của  việt nam tại vck  châu_á  mớ...</td>\n",
              "    </tr>\n",
              "    <tr>\n",
              "      <th>2</th>\n",
              "      <td>Lãi suất ngày 17/6: Nhiều ngân hàng giảm ngay ...</td>\n",
              "      <td>0</td>\n",
              "      <td>lãi_suất ngày   nhiều ngân_hàng giảm ngay lãi_...</td>\n",
              "    </tr>\n",
              "    <tr>\n",
              "      <th>3</th>\n",
              "      <td>Hành khách 'đại náo' bằng miệng khiến Tề Thiên...</td>\n",
              "      <td>1</td>\n",
              "      <td>hành_khách đại_náo bằng miệng khiến tề thiên c...</td>\n",
              "    </tr>\n",
              "    <tr>\n",
              "      <th>4</th>\n",
              "      <td>'Giật gân' về sự lạc hậu của y tế</td>\n",
              "      <td>1</td>\n",
              "      <td>giật_gân về sự lạc_hậu của y_tế</td>\n",
              "    </tr>\n",
              "    <tr>\n",
              "      <th>...</th>\n",
              "      <td>...</td>\n",
              "      <td>...</td>\n",
              "      <td>...</td>\n",
              "    </tr>\n",
              "    <tr>\n",
              "      <th>9197</th>\n",
              "      <td>Gặp chiến sĩ PCCC sinh năm 2003: Việc vất vả g...</td>\n",
              "      <td>1</td>\n",
              "      <td>gặp chiến_sĩ pccc sinh năm  việc vất_vả giúp m...</td>\n",
              "    </tr>\n",
              "    <tr>\n",
              "      <th>9198</th>\n",
              "      <td>Gặp gỡ Nhà Xoài Đây: Mẹ 9x chia sẻ quan điểm n...</td>\n",
              "      <td>1</td>\n",
              "      <td>gặp_gỡ nhà xoài đây mẹ  x chia_sẻ quan_điểm nu...</td>\n",
              "    </tr>\n",
              "    <tr>\n",
              "      <th>9199</th>\n",
              "      <td>CADMIUM - nữ sinh 2k6 khuấy đảo Rap Việt lần đ...</td>\n",
              "      <td>1</td>\n",
              "      <td>cadmium nữ_sinh   khuấy_đảo rap việt lần đầu n...</td>\n",
              "    </tr>\n",
              "    <tr>\n",
              "      <th>9200</th>\n",
              "      <td>Đem tiền về quê sống thử 1 tháng, chàng trai n...</td>\n",
              "      <td>1</td>\n",
              "      <td>đem tiền về quê sống thử  tháng chàng trai nhậ...</td>\n",
              "    </tr>\n",
              "    <tr>\n",
              "      <th>9201</th>\n",
              "      <td>Thanh niên nhớ quay quắt vị cơm tấm, bún bò kh...</td>\n",
              "      <td>1</td>\n",
              "      <td>thanh_niên nhớ quay_quắt vị cơm_tấm bún_bò khi...</td>\n",
              "    </tr>\n",
              "  </tbody>\n",
              "</table>\n",
              "<p>9202 rows × 3 columns</p>\n",
              "</div>\n",
              "      <button class=\"colab-df-convert\" onclick=\"convertToInteractive('df-12ab9001-85db-4c82-aa42-299f8428324b')\"\n",
              "              title=\"Convert this dataframe to an interactive table.\"\n",
              "              style=\"display:none;\">\n",
              "        \n",
              "  <svg xmlns=\"http://www.w3.org/2000/svg\" height=\"24px\"viewBox=\"0 0 24 24\"\n",
              "       width=\"24px\">\n",
              "    <path d=\"M0 0h24v24H0V0z\" fill=\"none\"/>\n",
              "    <path d=\"M18.56 5.44l.94 2.06.94-2.06 2.06-.94-2.06-.94-.94-2.06-.94 2.06-2.06.94zm-11 1L8.5 8.5l.94-2.06 2.06-.94-2.06-.94L8.5 2.5l-.94 2.06-2.06.94zm10 10l.94 2.06.94-2.06 2.06-.94-2.06-.94-.94-2.06-.94 2.06-2.06.94z\"/><path d=\"M17.41 7.96l-1.37-1.37c-.4-.4-.92-.59-1.43-.59-.52 0-1.04.2-1.43.59L10.3 9.45l-7.72 7.72c-.78.78-.78 2.05 0 2.83L4 21.41c.39.39.9.59 1.41.59.51 0 1.02-.2 1.41-.59l7.78-7.78 2.81-2.81c.8-.78.8-2.07 0-2.86zM5.41 20L4 18.59l7.72-7.72 1.47 1.35L5.41 20z\"/>\n",
              "  </svg>\n",
              "      </button>\n",
              "      \n",
              "  <style>\n",
              "    .colab-df-container {\n",
              "      display:flex;\n",
              "      flex-wrap:wrap;\n",
              "      gap: 12px;\n",
              "    }\n",
              "\n",
              "    .colab-df-convert {\n",
              "      background-color: #E8F0FE;\n",
              "      border: none;\n",
              "      border-radius: 50%;\n",
              "      cursor: pointer;\n",
              "      display: none;\n",
              "      fill: #1967D2;\n",
              "      height: 32px;\n",
              "      padding: 0 0 0 0;\n",
              "      width: 32px;\n",
              "    }\n",
              "\n",
              "    .colab-df-convert:hover {\n",
              "      background-color: #E2EBFA;\n",
              "      box-shadow: 0px 1px 2px rgba(60, 64, 67, 0.3), 0px 1px 3px 1px rgba(60, 64, 67, 0.15);\n",
              "      fill: #174EA6;\n",
              "    }\n",
              "\n",
              "    [theme=dark] .colab-df-convert {\n",
              "      background-color: #3B4455;\n",
              "      fill: #D2E3FC;\n",
              "    }\n",
              "\n",
              "    [theme=dark] .colab-df-convert:hover {\n",
              "      background-color: #434B5C;\n",
              "      box-shadow: 0px 1px 3px 1px rgba(0, 0, 0, 0.15);\n",
              "      filter: drop-shadow(0px 1px 2px rgba(0, 0, 0, 0.3));\n",
              "      fill: #FFFFFF;\n",
              "    }\n",
              "  </style>\n",
              "\n",
              "      <script>\n",
              "        const buttonEl =\n",
              "          document.querySelector('#df-12ab9001-85db-4c82-aa42-299f8428324b button.colab-df-convert');\n",
              "        buttonEl.style.display =\n",
              "          google.colab.kernel.accessAllowed ? 'block' : 'none';\n",
              "\n",
              "        async function convertToInteractive(key) {\n",
              "          const element = document.querySelector('#df-12ab9001-85db-4c82-aa42-299f8428324b');\n",
              "          const dataTable =\n",
              "            await google.colab.kernel.invokeFunction('convertToInteractive',\n",
              "                                                     [key], {});\n",
              "          if (!dataTable) return;\n",
              "\n",
              "          const docLinkHtml = 'Like what you see? Visit the ' +\n",
              "            '<a target=\"_blank\" href=https://colab.research.google.com/notebooks/data_table.ipynb>data table notebook</a>'\n",
              "            + ' to learn more about interactive tables.';\n",
              "          element.innerHTML = '';\n",
              "          dataTable['output_type'] = 'display_data';\n",
              "          await google.colab.output.renderOutput(dataTable, element);\n",
              "          const docLink = document.createElement('div');\n",
              "          docLink.innerHTML = docLinkHtml;\n",
              "          element.appendChild(docLink);\n",
              "        }\n",
              "      </script>\n",
              "    </div>\n",
              "  </div>\n",
              "  "
            ]
          },
          "metadata": {},
          "execution_count": 127
        }
      ]
    },
    {
      "cell_type": "markdown",
      "source": [
        "##8. Loại bỏ stopword"
      ],
      "metadata": {
        "id": "9PVyPclLc0tx"
      }
    },
    {
      "cell_type": "markdown",
      "source": [
        "Download danh sách stopword từ Github"
      ],
      "metadata": {
        "id": "hZ63LtQMbL61"
      }
    },
    {
      "cell_type": "code",
      "source": [
        "%cd /content\n",
        "!git clone https://github.com/stopwords/vietnamese-stopwords.git"
      ],
      "metadata": {
        "id": "-O74gnNiaDkf"
      },
      "execution_count": null,
      "outputs": []
    },
    {
      "cell_type": "code",
      "source": [
        "stopwords = open('/content/vietnamese-stopwords/vietnamese-stopwords.txt')\n",
        "stopwords = stopwords.readlines()\n",
        "stopwords = [x.strip() for x in stopwords]"
      ],
      "metadata": {
        "id": "jp6oTjkZaJQT"
      },
      "execution_count": 129,
      "outputs": []
    },
    {
      "cell_type": "markdown",
      "source": [
        "Loại bỏ stopword"
      ],
      "metadata": {
        "id": "FWrboDAkbQy9"
      }
    },
    {
      "cell_type": "code",
      "source": [
        "def remove_stopwords(document):\n",
        "  words = document.split(' ')\n",
        "  res = list()\n",
        "  for word in words:\n",
        "    if word not in stopwords:\n",
        "      res.append(word)\n",
        "\n",
        "  return ' '.join(res)\n",
        "\n",
        "remove_stopwords(text_preprocessing('Theo nghị định đã ban hành, người dân cần ở trong nhà đến hết ngày 16/9.'))"
      ],
      "metadata": {
        "colab": {
          "base_uri": "https://localhost:8080/",
          "height": 36
        },
        "id": "ogiExnWgdz8s",
        "outputId": "4d735381-8a22-425e-cec3-8728e918a974"
      },
      "execution_count": 130,
      "outputs": [
        {
          "output_type": "execute_result",
          "data": {
            "text/plain": [
              "'nghị_định ban_hành dân'"
            ],
            "application/vnd.google.colaboratory.intrinsic+json": {
              "type": "string"
            }
          },
          "metadata": {},
          "execution_count": 130
        }
      ]
    },
    {
      "cell_type": "code",
      "source": [
        "data[\"preprocess_headline\"] = data[\"preprocess_headline\"].apply(lambda x: remove_stopwords(x))\n",
        "data"
      ],
      "metadata": {
        "colab": {
          "base_uri": "https://localhost:8080/",
          "height": 423
        },
        "id": "hkGzKGJseRd9",
        "outputId": "b1d89aec-ba18-4fc7-ccf0-9378e82e6641"
      },
      "execution_count": 131,
      "outputs": [
        {
          "output_type": "execute_result",
          "data": {
            "text/plain": [
              "                                               headline  is_sarcastic  \\\n",
              "0      Tuyển Việt Nam nhận tin vui trước trận gặp Syria             0   \n",
              "1     Lịch thi đấu của U17 Việt Nam tại VCK U17 châu...             0   \n",
              "2     Lãi suất ngày 17/6: Nhiều ngân hàng giảm ngay ...             0   \n",
              "3     Hành khách 'đại náo' bằng miệng khiến Tề Thiên...             1   \n",
              "4                     'Giật gân' về sự lạc hậu của y tế             1   \n",
              "...                                                 ...           ...   \n",
              "9197  Gặp chiến sĩ PCCC sinh năm 2003: Việc vất vả g...             1   \n",
              "9198  Gặp gỡ Nhà Xoài Đây: Mẹ 9x chia sẻ quan điểm n...             1   \n",
              "9199  CADMIUM - nữ sinh 2k6 khuấy đảo Rap Việt lần đ...             1   \n",
              "9200  Đem tiền về quê sống thử 1 tháng, chàng trai n...             1   \n",
              "9201  Thanh niên nhớ quay quắt vị cơm tấm, bún bò kh...             1   \n",
              "\n",
              "                                    preprocess_headline  \n",
              "0                     tuyển việt nam tin_vui trận syria  \n",
              "1                   lịch thi_đấu  việt nam vck  châu_á   \n",
              "2         lãi_suất   ngân_hàng lãi_suất quyết_định nhnn  \n",
              "3            hành_khách đại_náo miệng tề thiên bái_phục  \n",
              "4                                 giật_gân lạc_hậu y_tế  \n",
              "...                                                 ...  \n",
              "9197       chiến_sĩ pccc sinh  vất_vả giúp trưởng_thành  \n",
              "9198       gặp_gỡ xoài mẹ  x chia_sẻ quan_điểm nuôi dạy  \n",
              "9199  cadmium nữ_sinh   khuấy_đảo rap việt đầu bàn_t...  \n",
              "9200     đem tiền quê sống thử  chàng trai giá bình_yên  \n",
              "9201  thanh_niên quay_quắt vị cơm_tấm bún_bò phố tiế...  \n",
              "\n",
              "[9202 rows x 3 columns]"
            ],
            "text/html": [
              "\n",
              "  <div id=\"df-acffe316-9794-46f5-ab70-60d4d12d4a2b\">\n",
              "    <div class=\"colab-df-container\">\n",
              "      <div>\n",
              "<style scoped>\n",
              "    .dataframe tbody tr th:only-of-type {\n",
              "        vertical-align: middle;\n",
              "    }\n",
              "\n",
              "    .dataframe tbody tr th {\n",
              "        vertical-align: top;\n",
              "    }\n",
              "\n",
              "    .dataframe thead th {\n",
              "        text-align: right;\n",
              "    }\n",
              "</style>\n",
              "<table border=\"1\" class=\"dataframe\">\n",
              "  <thead>\n",
              "    <tr style=\"text-align: right;\">\n",
              "      <th></th>\n",
              "      <th>headline</th>\n",
              "      <th>is_sarcastic</th>\n",
              "      <th>preprocess_headline</th>\n",
              "    </tr>\n",
              "  </thead>\n",
              "  <tbody>\n",
              "    <tr>\n",
              "      <th>0</th>\n",
              "      <td>Tuyển Việt Nam nhận tin vui trước trận gặp Syria</td>\n",
              "      <td>0</td>\n",
              "      <td>tuyển việt nam tin_vui trận syria</td>\n",
              "    </tr>\n",
              "    <tr>\n",
              "      <th>1</th>\n",
              "      <td>Lịch thi đấu của U17 Việt Nam tại VCK U17 châu...</td>\n",
              "      <td>0</td>\n",
              "      <td>lịch thi_đấu  việt nam vck  châu_á</td>\n",
              "    </tr>\n",
              "    <tr>\n",
              "      <th>2</th>\n",
              "      <td>Lãi suất ngày 17/6: Nhiều ngân hàng giảm ngay ...</td>\n",
              "      <td>0</td>\n",
              "      <td>lãi_suất   ngân_hàng lãi_suất quyết_định nhnn</td>\n",
              "    </tr>\n",
              "    <tr>\n",
              "      <th>3</th>\n",
              "      <td>Hành khách 'đại náo' bằng miệng khiến Tề Thiên...</td>\n",
              "      <td>1</td>\n",
              "      <td>hành_khách đại_náo miệng tề thiên bái_phục</td>\n",
              "    </tr>\n",
              "    <tr>\n",
              "      <th>4</th>\n",
              "      <td>'Giật gân' về sự lạc hậu của y tế</td>\n",
              "      <td>1</td>\n",
              "      <td>giật_gân lạc_hậu y_tế</td>\n",
              "    </tr>\n",
              "    <tr>\n",
              "      <th>...</th>\n",
              "      <td>...</td>\n",
              "      <td>...</td>\n",
              "      <td>...</td>\n",
              "    </tr>\n",
              "    <tr>\n",
              "      <th>9197</th>\n",
              "      <td>Gặp chiến sĩ PCCC sinh năm 2003: Việc vất vả g...</td>\n",
              "      <td>1</td>\n",
              "      <td>chiến_sĩ pccc sinh  vất_vả giúp trưởng_thành</td>\n",
              "    </tr>\n",
              "    <tr>\n",
              "      <th>9198</th>\n",
              "      <td>Gặp gỡ Nhà Xoài Đây: Mẹ 9x chia sẻ quan điểm n...</td>\n",
              "      <td>1</td>\n",
              "      <td>gặp_gỡ xoài mẹ  x chia_sẻ quan_điểm nuôi dạy</td>\n",
              "    </tr>\n",
              "    <tr>\n",
              "      <th>9199</th>\n",
              "      <td>CADMIUM - nữ sinh 2k6 khuấy đảo Rap Việt lần đ...</td>\n",
              "      <td>1</td>\n",
              "      <td>cadmium nữ_sinh   khuấy_đảo rap việt đầu bàn_t...</td>\n",
              "    </tr>\n",
              "    <tr>\n",
              "      <th>9200</th>\n",
              "      <td>Đem tiền về quê sống thử 1 tháng, chàng trai n...</td>\n",
              "      <td>1</td>\n",
              "      <td>đem tiền quê sống thử  chàng trai giá bình_yên</td>\n",
              "    </tr>\n",
              "    <tr>\n",
              "      <th>9201</th>\n",
              "      <td>Thanh niên nhớ quay quắt vị cơm tấm, bún bò kh...</td>\n",
              "      <td>1</td>\n",
              "      <td>thanh_niên quay_quắt vị cơm_tấm bún_bò phố tiế...</td>\n",
              "    </tr>\n",
              "  </tbody>\n",
              "</table>\n",
              "<p>9202 rows × 3 columns</p>\n",
              "</div>\n",
              "      <button class=\"colab-df-convert\" onclick=\"convertToInteractive('df-acffe316-9794-46f5-ab70-60d4d12d4a2b')\"\n",
              "              title=\"Convert this dataframe to an interactive table.\"\n",
              "              style=\"display:none;\">\n",
              "        \n",
              "  <svg xmlns=\"http://www.w3.org/2000/svg\" height=\"24px\"viewBox=\"0 0 24 24\"\n",
              "       width=\"24px\">\n",
              "    <path d=\"M0 0h24v24H0V0z\" fill=\"none\"/>\n",
              "    <path d=\"M18.56 5.44l.94 2.06.94-2.06 2.06-.94-2.06-.94-.94-2.06-.94 2.06-2.06.94zm-11 1L8.5 8.5l.94-2.06 2.06-.94-2.06-.94L8.5 2.5l-.94 2.06-2.06.94zm10 10l.94 2.06.94-2.06 2.06-.94-2.06-.94-.94-2.06-.94 2.06-2.06.94z\"/><path d=\"M17.41 7.96l-1.37-1.37c-.4-.4-.92-.59-1.43-.59-.52 0-1.04.2-1.43.59L10.3 9.45l-7.72 7.72c-.78.78-.78 2.05 0 2.83L4 21.41c.39.39.9.59 1.41.59.51 0 1.02-.2 1.41-.59l7.78-7.78 2.81-2.81c.8-.78.8-2.07 0-2.86zM5.41 20L4 18.59l7.72-7.72 1.47 1.35L5.41 20z\"/>\n",
              "  </svg>\n",
              "      </button>\n",
              "      \n",
              "  <style>\n",
              "    .colab-df-container {\n",
              "      display:flex;\n",
              "      flex-wrap:wrap;\n",
              "      gap: 12px;\n",
              "    }\n",
              "\n",
              "    .colab-df-convert {\n",
              "      background-color: #E8F0FE;\n",
              "      border: none;\n",
              "      border-radius: 50%;\n",
              "      cursor: pointer;\n",
              "      display: none;\n",
              "      fill: #1967D2;\n",
              "      height: 32px;\n",
              "      padding: 0 0 0 0;\n",
              "      width: 32px;\n",
              "    }\n",
              "\n",
              "    .colab-df-convert:hover {\n",
              "      background-color: #E2EBFA;\n",
              "      box-shadow: 0px 1px 2px rgba(60, 64, 67, 0.3), 0px 1px 3px 1px rgba(60, 64, 67, 0.15);\n",
              "      fill: #174EA6;\n",
              "    }\n",
              "\n",
              "    [theme=dark] .colab-df-convert {\n",
              "      background-color: #3B4455;\n",
              "      fill: #D2E3FC;\n",
              "    }\n",
              "\n",
              "    [theme=dark] .colab-df-convert:hover {\n",
              "      background-color: #434B5C;\n",
              "      box-shadow: 0px 1px 3px 1px rgba(0, 0, 0, 0.15);\n",
              "      filter: drop-shadow(0px 1px 2px rgba(0, 0, 0, 0.3));\n",
              "      fill: #FFFFFF;\n",
              "    }\n",
              "  </style>\n",
              "\n",
              "      <script>\n",
              "        const buttonEl =\n",
              "          document.querySelector('#df-acffe316-9794-46f5-ab70-60d4d12d4a2b button.colab-df-convert');\n",
              "        buttonEl.style.display =\n",
              "          google.colab.kernel.accessAllowed ? 'block' : 'none';\n",
              "\n",
              "        async function convertToInteractive(key) {\n",
              "          const element = document.querySelector('#df-acffe316-9794-46f5-ab70-60d4d12d4a2b');\n",
              "          const dataTable =\n",
              "            await google.colab.kernel.invokeFunction('convertToInteractive',\n",
              "                                                     [key], {});\n",
              "          if (!dataTable) return;\n",
              "\n",
              "          const docLinkHtml = 'Like what you see? Visit the ' +\n",
              "            '<a target=\"_blank\" href=https://colab.research.google.com/notebooks/data_table.ipynb>data table notebook</a>'\n",
              "            + ' to learn more about interactive tables.';\n",
              "          element.innerHTML = '';\n",
              "          dataTable['output_type'] = 'display_data';\n",
              "          await google.colab.output.renderOutput(dataTable, element);\n",
              "          const docLink = document.createElement('div');\n",
              "          docLink.innerHTML = docLinkHtml;\n",
              "          element.appendChild(docLink);\n",
              "        }\n",
              "      </script>\n",
              "    </div>\n",
              "  </div>\n",
              "  "
            ]
          },
          "metadata": {},
          "execution_count": 131
        }
      ]
    },
    {
      "cell_type": "code",
      "source": [
        "data.is_sarcastic.value_counts()"
      ],
      "metadata": {
        "id": "G1BSddwLe3YC",
        "outputId": "38a92d80-d0d1-45be-9444-279a1945614f",
        "colab": {
          "base_uri": "https://localhost:8080/"
        }
      },
      "execution_count": 138,
      "outputs": [
        {
          "output_type": "execute_result",
          "data": {
            "text/plain": [
              "0    5691\n",
              "1    3511\n",
              "Name: is_sarcastic, dtype: int64"
            ]
          },
          "metadata": {},
          "execution_count": 138
        }
      ]
    },
    {
      "cell_type": "markdown",
      "source": [
        "## 9. Lưu dữ liệu đã tiền xử lí"
      ],
      "metadata": {
        "id": "465WXUsyepMY"
      }
    },
    {
      "cell_type": "code",
      "source": [
        "data.to_csv(\"/content/preprocessing_data.csv\", index=False)"
      ],
      "metadata": {
        "id": "iJJHPu_YeaZz"
      },
      "execution_count": 139,
      "outputs": []
    },
    {
      "cell_type": "markdown",
      "source": [
        "# Xây dựng mô hình phân lớp"
      ],
      "metadata": {
        "id": "M6qybAeKtmDw"
      }
    },
    {
      "cell_type": "code",
      "source": [
        "from numpy import expand_dims\n",
        "import pickle\n",
        "import time\n",
        "from scipy.sparse.csr import csr_matrix as spare_matrix\n",
        "from sklearn.feature_extraction.text import CountVectorizer, TfidfTransformer\n",
        "from sklearn.pipeline import Pipeline\n",
        "from sklearn.naive_bayes import MultinomialNB\n",
        "from sklearn.linear_model import LogisticRegression\n",
        "from sklearn.svm import SVC\n",
        "from sklearn.metrics import classification_report, confusion_matrix\n",
        "from sklearn.manifold import TSNE\n",
        "from sklearn.preprocessing import LabelEncoder, StandardScaler\n",
        "from scipy import sparse"
      ],
      "metadata": {
        "colab": {
          "base_uri": "https://localhost:8080/"
        },
        "id": "10F1jNRntqQ2",
        "outputId": "6273773e-21a9-47e5-a938-6170f2cb7016"
      },
      "execution_count": 134,
      "outputs": [
        {
          "output_type": "stream",
          "name": "stderr",
          "text": [
            "<ipython-input-134-77069b6e35eb>:4: DeprecationWarning: Please use `csr_matrix` from the `scipy.sparse` namespace, the `scipy.sparse.csr` namespace is deprecated.\n",
            "  from scipy.sparse.csr import csr_matrix as spare_matrix\n"
          ]
        }
      ]
    },
    {
      "cell_type": "code",
      "source": [
        "df = pd.read_csv(\"/content/preprocessing_data.csv\")\n",
        "df"
      ],
      "metadata": {
        "colab": {
          "base_uri": "https://localhost:8080/",
          "height": 423
        },
        "id": "wEpnYuKBuZZR",
        "outputId": "3bc359b4-ffde-4687-e4e3-98517130e10b"
      },
      "execution_count": 149,
      "outputs": [
        {
          "output_type": "execute_result",
          "data": {
            "text/plain": [
              "                                               headline  is_sarcastic  \\\n",
              "0      Tuyển Việt Nam nhận tin vui trước trận gặp Syria             0   \n",
              "1     Lịch thi đấu của U17 Việt Nam tại VCK U17 châu...             0   \n",
              "2     Lãi suất ngày 17/6: Nhiều ngân hàng giảm ngay ...             0   \n",
              "3     Hành khách 'đại náo' bằng miệng khiến Tề Thiên...             1   \n",
              "4                     'Giật gân' về sự lạc hậu của y tế             1   \n",
              "...                                                 ...           ...   \n",
              "9197  Gặp chiến sĩ PCCC sinh năm 2003: Việc vất vả g...             1   \n",
              "9198  Gặp gỡ Nhà Xoài Đây: Mẹ 9x chia sẻ quan điểm n...             1   \n",
              "9199  CADMIUM - nữ sinh 2k6 khuấy đảo Rap Việt lần đ...             1   \n",
              "9200  Đem tiền về quê sống thử 1 tháng, chàng trai n...             1   \n",
              "9201  Thanh niên nhớ quay quắt vị cơm tấm, bún bò kh...             1   \n",
              "\n",
              "                                    preprocess_headline  \n",
              "0                     tuyển việt nam tin_vui trận syria  \n",
              "1                   lịch thi_đấu  việt nam vck  châu_á   \n",
              "2         lãi_suất   ngân_hàng lãi_suất quyết_định nhnn  \n",
              "3            hành_khách đại_náo miệng tề thiên bái_phục  \n",
              "4                                 giật_gân lạc_hậu y_tế  \n",
              "...                                                 ...  \n",
              "9197       chiến_sĩ pccc sinh  vất_vả giúp trưởng_thành  \n",
              "9198       gặp_gỡ xoài mẹ  x chia_sẻ quan_điểm nuôi dạy  \n",
              "9199  cadmium nữ_sinh   khuấy_đảo rap việt đầu bàn_t...  \n",
              "9200     đem tiền quê sống thử  chàng trai giá bình_yên  \n",
              "9201  thanh_niên quay_quắt vị cơm_tấm bún_bò phố tiế...  \n",
              "\n",
              "[9202 rows x 3 columns]"
            ],
            "text/html": [
              "\n",
              "  <div id=\"df-cfa681ee-1e42-460f-926c-82ae678a426c\">\n",
              "    <div class=\"colab-df-container\">\n",
              "      <div>\n",
              "<style scoped>\n",
              "    .dataframe tbody tr th:only-of-type {\n",
              "        vertical-align: middle;\n",
              "    }\n",
              "\n",
              "    .dataframe tbody tr th {\n",
              "        vertical-align: top;\n",
              "    }\n",
              "\n",
              "    .dataframe thead th {\n",
              "        text-align: right;\n",
              "    }\n",
              "</style>\n",
              "<table border=\"1\" class=\"dataframe\">\n",
              "  <thead>\n",
              "    <tr style=\"text-align: right;\">\n",
              "      <th></th>\n",
              "      <th>headline</th>\n",
              "      <th>is_sarcastic</th>\n",
              "      <th>preprocess_headline</th>\n",
              "    </tr>\n",
              "  </thead>\n",
              "  <tbody>\n",
              "    <tr>\n",
              "      <th>0</th>\n",
              "      <td>Tuyển Việt Nam nhận tin vui trước trận gặp Syria</td>\n",
              "      <td>0</td>\n",
              "      <td>tuyển việt nam tin_vui trận syria</td>\n",
              "    </tr>\n",
              "    <tr>\n",
              "      <th>1</th>\n",
              "      <td>Lịch thi đấu của U17 Việt Nam tại VCK U17 châu...</td>\n",
              "      <td>0</td>\n",
              "      <td>lịch thi_đấu  việt nam vck  châu_á</td>\n",
              "    </tr>\n",
              "    <tr>\n",
              "      <th>2</th>\n",
              "      <td>Lãi suất ngày 17/6: Nhiều ngân hàng giảm ngay ...</td>\n",
              "      <td>0</td>\n",
              "      <td>lãi_suất   ngân_hàng lãi_suất quyết_định nhnn</td>\n",
              "    </tr>\n",
              "    <tr>\n",
              "      <th>3</th>\n",
              "      <td>Hành khách 'đại náo' bằng miệng khiến Tề Thiên...</td>\n",
              "      <td>1</td>\n",
              "      <td>hành_khách đại_náo miệng tề thiên bái_phục</td>\n",
              "    </tr>\n",
              "    <tr>\n",
              "      <th>4</th>\n",
              "      <td>'Giật gân' về sự lạc hậu của y tế</td>\n",
              "      <td>1</td>\n",
              "      <td>giật_gân lạc_hậu y_tế</td>\n",
              "    </tr>\n",
              "    <tr>\n",
              "      <th>...</th>\n",
              "      <td>...</td>\n",
              "      <td>...</td>\n",
              "      <td>...</td>\n",
              "    </tr>\n",
              "    <tr>\n",
              "      <th>9197</th>\n",
              "      <td>Gặp chiến sĩ PCCC sinh năm 2003: Việc vất vả g...</td>\n",
              "      <td>1</td>\n",
              "      <td>chiến_sĩ pccc sinh  vất_vả giúp trưởng_thành</td>\n",
              "    </tr>\n",
              "    <tr>\n",
              "      <th>9198</th>\n",
              "      <td>Gặp gỡ Nhà Xoài Đây: Mẹ 9x chia sẻ quan điểm n...</td>\n",
              "      <td>1</td>\n",
              "      <td>gặp_gỡ xoài mẹ  x chia_sẻ quan_điểm nuôi dạy</td>\n",
              "    </tr>\n",
              "    <tr>\n",
              "      <th>9199</th>\n",
              "      <td>CADMIUM - nữ sinh 2k6 khuấy đảo Rap Việt lần đ...</td>\n",
              "      <td>1</td>\n",
              "      <td>cadmium nữ_sinh   khuấy_đảo rap việt đầu bàn_t...</td>\n",
              "    </tr>\n",
              "    <tr>\n",
              "      <th>9200</th>\n",
              "      <td>Đem tiền về quê sống thử 1 tháng, chàng trai n...</td>\n",
              "      <td>1</td>\n",
              "      <td>đem tiền quê sống thử  chàng trai giá bình_yên</td>\n",
              "    </tr>\n",
              "    <tr>\n",
              "      <th>9201</th>\n",
              "      <td>Thanh niên nhớ quay quắt vị cơm tấm, bún bò kh...</td>\n",
              "      <td>1</td>\n",
              "      <td>thanh_niên quay_quắt vị cơm_tấm bún_bò phố tiế...</td>\n",
              "    </tr>\n",
              "  </tbody>\n",
              "</table>\n",
              "<p>9202 rows × 3 columns</p>\n",
              "</div>\n",
              "      <button class=\"colab-df-convert\" onclick=\"convertToInteractive('df-cfa681ee-1e42-460f-926c-82ae678a426c')\"\n",
              "              title=\"Convert this dataframe to an interactive table.\"\n",
              "              style=\"display:none;\">\n",
              "        \n",
              "  <svg xmlns=\"http://www.w3.org/2000/svg\" height=\"24px\"viewBox=\"0 0 24 24\"\n",
              "       width=\"24px\">\n",
              "    <path d=\"M0 0h24v24H0V0z\" fill=\"none\"/>\n",
              "    <path d=\"M18.56 5.44l.94 2.06.94-2.06 2.06-.94-2.06-.94-.94-2.06-.94 2.06-2.06.94zm-11 1L8.5 8.5l.94-2.06 2.06-.94-2.06-.94L8.5 2.5l-.94 2.06-2.06.94zm10 10l.94 2.06.94-2.06 2.06-.94-2.06-.94-.94-2.06-.94 2.06-2.06.94z\"/><path d=\"M17.41 7.96l-1.37-1.37c-.4-.4-.92-.59-1.43-.59-.52 0-1.04.2-1.43.59L10.3 9.45l-7.72 7.72c-.78.78-.78 2.05 0 2.83L4 21.41c.39.39.9.59 1.41.59.51 0 1.02-.2 1.41-.59l7.78-7.78 2.81-2.81c.8-.78.8-2.07 0-2.86zM5.41 20L4 18.59l7.72-7.72 1.47 1.35L5.41 20z\"/>\n",
              "  </svg>\n",
              "      </button>\n",
              "      \n",
              "  <style>\n",
              "    .colab-df-container {\n",
              "      display:flex;\n",
              "      flex-wrap:wrap;\n",
              "      gap: 12px;\n",
              "    }\n",
              "\n",
              "    .colab-df-convert {\n",
              "      background-color: #E8F0FE;\n",
              "      border: none;\n",
              "      border-radius: 50%;\n",
              "      cursor: pointer;\n",
              "      display: none;\n",
              "      fill: #1967D2;\n",
              "      height: 32px;\n",
              "      padding: 0 0 0 0;\n",
              "      width: 32px;\n",
              "    }\n",
              "\n",
              "    .colab-df-convert:hover {\n",
              "      background-color: #E2EBFA;\n",
              "      box-shadow: 0px 1px 2px rgba(60, 64, 67, 0.3), 0px 1px 3px 1px rgba(60, 64, 67, 0.15);\n",
              "      fill: #174EA6;\n",
              "    }\n",
              "\n",
              "    [theme=dark] .colab-df-convert {\n",
              "      background-color: #3B4455;\n",
              "      fill: #D2E3FC;\n",
              "    }\n",
              "\n",
              "    [theme=dark] .colab-df-convert:hover {\n",
              "      background-color: #434B5C;\n",
              "      box-shadow: 0px 1px 3px 1px rgba(0, 0, 0, 0.15);\n",
              "      filter: drop-shadow(0px 1px 2px rgba(0, 0, 0, 0.3));\n",
              "      fill: #FFFFFF;\n",
              "    }\n",
              "  </style>\n",
              "\n",
              "      <script>\n",
              "        const buttonEl =\n",
              "          document.querySelector('#df-cfa681ee-1e42-460f-926c-82ae678a426c button.colab-df-convert');\n",
              "        buttonEl.style.display =\n",
              "          google.colab.kernel.accessAllowed ? 'block' : 'none';\n",
              "\n",
              "        async function convertToInteractive(key) {\n",
              "          const element = document.querySelector('#df-cfa681ee-1e42-460f-926c-82ae678a426c');\n",
              "          const dataTable =\n",
              "            await google.colab.kernel.invokeFunction('convertToInteractive',\n",
              "                                                     [key], {});\n",
              "          if (!dataTable) return;\n",
              "\n",
              "          const docLinkHtml = 'Like what you see? Visit the ' +\n",
              "            '<a target=\"_blank\" href=https://colab.research.google.com/notebooks/data_table.ipynb>data table notebook</a>'\n",
              "            + ' to learn more about interactive tables.';\n",
              "          element.innerHTML = '';\n",
              "          dataTable['output_type'] = 'display_data';\n",
              "          await google.colab.output.renderOutput(dataTable, element);\n",
              "          const docLink = document.createElement('div');\n",
              "          docLink.innerHTML = docLinkHtml;\n",
              "          element.appendChild(docLink);\n",
              "        }\n",
              "      </script>\n",
              "    </div>\n",
              "  </div>\n",
              "  "
            ]
          },
          "metadata": {},
          "execution_count": 149
        }
      ]
    },
    {
      "cell_type": "code",
      "source": [
        "df.isna().sum()"
      ],
      "metadata": {
        "colab": {
          "base_uri": "https://localhost:8080/"
        },
        "id": "NSAi0D5CuhvP",
        "outputId": "24362bb7-0348-46c2-82b0-01dbf7114f07"
      },
      "execution_count": 150,
      "outputs": [
        {
          "output_type": "execute_result",
          "data": {
            "text/plain": [
              "headline                2\n",
              "is_sarcastic            0\n",
              "preprocess_headline    11\n",
              "dtype: int64"
            ]
          },
          "metadata": {},
          "execution_count": 150
        }
      ]
    },
    {
      "cell_type": "code",
      "source": [
        "df.dropna(inplace=True)"
      ],
      "metadata": {
        "id": "kssuqBT4uj8Z"
      },
      "execution_count": 151,
      "outputs": []
    },
    {
      "cell_type": "code",
      "source": [
        "headlines = df[\"preprocess_headline\"]\n",
        "labels = df[\"is_sarcastic\"]"
      ],
      "metadata": {
        "id": "n2KrYvw8ulpc"
      },
      "execution_count": 152,
      "outputs": []
    },
    {
      "cell_type": "markdown",
      "source": [
        "##1. Train, test split\n"
      ],
      "metadata": {
        "id": "lgOUQpXuuvwM"
      }
    },
    {
      "cell_type": "code",
      "source": [
        "from sklearn.model_selection import train_test_split\n",
        "train_x, test_x, train_y, test_y = train_test_split(headlines, labels, test_size=0.2, random_state=42, stratify=labels)"
      ],
      "metadata": {
        "id": "e_-wmNSEur5c"
      },
      "execution_count": 153,
      "outputs": []
    },
    {
      "cell_type": "code",
      "source": [
        "train_y.value_counts()"
      ],
      "metadata": {
        "colab": {
          "base_uri": "https://localhost:8080/"
        },
        "id": "v7ojJDkyu0e5",
        "outputId": "78bf0d25-c7d9-4531-8bc2-47fae00a08ef"
      },
      "execution_count": 154,
      "outputs": [
        {
          "output_type": "execute_result",
          "data": {
            "text/plain": [
              "0    4550\n",
              "1    2802\n",
              "Name: is_sarcastic, dtype: int64"
            ]
          },
          "metadata": {},
          "execution_count": 154
        }
      ]
    },
    {
      "cell_type": "code",
      "source": [
        "test_y.value_counts()"
      ],
      "metadata": {
        "colab": {
          "base_uri": "https://localhost:8080/"
        },
        "id": "BhNNKuvau1xG",
        "outputId": "bd42190c-abb9-4562-c3b6-cae4a90315d8"
      },
      "execution_count": 155,
      "outputs": [
        {
          "output_type": "execute_result",
          "data": {
            "text/plain": [
              "0    1138\n",
              "1     701\n",
              "Name: is_sarcastic, dtype: int64"
            ]
          },
          "metadata": {},
          "execution_count": 155
        }
      ]
    },
    {
      "cell_type": "markdown",
      "source": [
        "##2. Huấn luyện mô hình"
      ],
      "metadata": {
        "id": "xtkwexH-vB8V"
      }
    },
    {
      "cell_type": "markdown",
      "source": [
        " ### 1. Multiple Naive Bayes"
      ],
      "metadata": {
        "id": "PFYoaLNAvGjl"
      }
    },
    {
      "cell_type": "markdown",
      "source": [
        "Train"
      ],
      "metadata": {
        "id": "iJRU435hvcCD"
      }
    },
    {
      "cell_type": "code",
      "source": [
        "mnb = Pipeline([\n",
        "               # convert dataset sang dạng vector count dựa trên một vocab chung (BoW), loại bỏ những word có tần suất xuất hiện > 0.8\n",
        "               ('vectorize', CountVectorizer(max_df=0.8, encoding='utf-16')),\n",
        "               # áp dụng tf-idf để extract feature\n",
        "               ('feature extracter', TfidfTransformer()),\n",
        "               # áp dụng mô hình phân lớp\n",
        "               ('classifier', MultinomialNB())\n",
        "])\n",
        "\n",
        "start = time.time()\n",
        "mnb.fit(train_x, train_y)\n",
        "print('Multinomial Bayes training time: %d' %(time.time() - start))"
      ],
      "metadata": {
        "colab": {
          "base_uri": "https://localhost:8080/"
        },
        "id": "HKB17bSJvZe1",
        "outputId": "b8d0c4b4-3f21-4a46-ad86-0f3bd7b47deb"
      },
      "execution_count": 170,
      "outputs": [
        {
          "output_type": "stream",
          "name": "stdout",
          "text": [
            "Multinomial Bayes training time: 0\n"
          ]
        }
      ]
    },
    {
      "cell_type": "markdown",
      "source": [
        "Đánh giá"
      ],
      "metadata": {
        "id": "JSrLToQGvdWt"
      }
    },
    {
      "cell_type": "code",
      "source": [
        "pred_y = mnb.predict(test_x)\n",
        "\n",
        "score = mnb.score(test_x, test_y)\n",
        "print('Multinomial Naive Bayes score: ', score)"
      ],
      "metadata": {
        "colab": {
          "base_uri": "https://localhost:8080/"
        },
        "id": "Atow-BHIvaG7",
        "outputId": "2e6c2d1f-09ad-404c-c15c-9fff48e427da"
      },
      "execution_count": 171,
      "outputs": [
        {
          "output_type": "stream",
          "name": "stdout",
          "text": [
            "Multinomial Naive Bayes score:  0.8183795541054921\n"
          ]
        }
      ]
    },
    {
      "cell_type": "code",
      "source": [
        "print(classification_report(test_y, pred_y))"
      ],
      "metadata": {
        "colab": {
          "base_uri": "https://localhost:8080/"
        },
        "id": "MLoVORGmvevw",
        "outputId": "4171dff8-f13f-406e-ab76-acf139f6012f"
      },
      "execution_count": 172,
      "outputs": [
        {
          "output_type": "stream",
          "name": "stdout",
          "text": [
            "              precision    recall  f1-score   support\n",
            "\n",
            "           0       0.81      0.91      0.86      1138\n",
            "           1       0.83      0.66      0.74       701\n",
            "\n",
            "    accuracy                           0.82      1839\n",
            "   macro avg       0.82      0.79      0.80      1839\n",
            "weighted avg       0.82      0.82      0.81      1839\n",
            "\n"
          ]
        }
      ]
    },
    {
      "cell_type": "code",
      "source": [
        "plt.figure(figsize=(5, 3))\n",
        "conf_matrix = confusion_matrix(test_y, pred_y)\n",
        "sb.heatmap(conf_matrix, annot=True, fmt='g', cmap='YlOrRd')"
      ],
      "metadata": {
        "colab": {
          "base_uri": "https://localhost:8080/",
          "height": 308
        },
        "id": "h3QtEDS-vgI8",
        "outputId": "df861756-c92b-4402-cab0-0aaaba2949dc"
      },
      "execution_count": 173,
      "outputs": [
        {
          "output_type": "execute_result",
          "data": {
            "text/plain": [
              "<Axes: >"
            ]
          },
          "metadata": {},
          "execution_count": 173
        },
        {
          "output_type": "display_data",
          "data": {
            "text/plain": [
              "<Figure size 500x300 with 2 Axes>"
            ],
            "image/png": "[encoded data removed]"
          },
          "metadata": {}
        }
      ]
    },
    {
      "cell_type": "markdown",
      "source": [
        "### 2. Logistic Regression"
      ],
      "metadata": {
        "id": "uHvEy8FOvjN2"
      }
    },
    {
      "cell_type": "markdown",
      "source": [
        "Train"
      ],
      "metadata": {
        "id": "g1XNmy3WvnF7"
      }
    },
    {
      "cell_type": "code",
      "source": [
        "lgres = Pipeline([\n",
        "                  ('vectorize', CountVectorizer(max_df=0.8, encoding='utf-16')),\n",
        "                  ('feature extracter', TfidfTransformer()),\n",
        "                  ('classifier', LogisticRegression())\n",
        "])\n",
        "\n",
        "start = time.time()\n",
        "lgres.fit(train_x, train_y)\n",
        "print('Logistic Regression training time:', time.time() - start)"
      ],
      "metadata": {
        "colab": {
          "base_uri": "https://localhost:8080/"
        },
        "id": "Ta4cDsYovhsU",
        "outputId": "0e820ef3-f8e7-40ab-e418-8c5320e3ab5a"
      },
      "execution_count": 176,
      "outputs": [
        {
          "output_type": "stream",
          "name": "stdout",
          "text": [
            "Logistic Regression training time: 0.31597280502319336\n"
          ]
        }
      ]
    },
    {
      "cell_type": "markdown",
      "source": [
        "Đánh giá"
      ],
      "metadata": {
        "id": "8N0D9sqSvolP"
      }
    },
    {
      "cell_type": "code",
      "source": [
        "pred_y = lgres.predict(test_x)\n",
        "\n",
        "score = lgres.score(test_x, test_y)\n",
        "print('Logistic regression score: ', score)"
      ],
      "metadata": {
        "colab": {
          "base_uri": "https://localhost:8080/"
        },
        "id": "8pKvB8ctvoLk",
        "outputId": "1c9aef53-b060-4ea6-9d27-520eeb8762e5"
      },
      "execution_count": 177,
      "outputs": [
        {
          "output_type": "stream",
          "name": "stdout",
          "text": [
            "Logistic regression score:  0.8249048395867319\n"
          ]
        }
      ]
    },
    {
      "cell_type": "code",
      "source": [
        "print(classification_report(test_y, pred_y))"
      ],
      "metadata": {
        "colab": {
          "base_uri": "https://localhost:8080/"
        },
        "id": "rq5tjBKpvrgQ",
        "outputId": "886350c9-6b4d-4bbe-f98d-d25a0cf1ea05"
      },
      "execution_count": 178,
      "outputs": [
        {
          "output_type": "stream",
          "name": "stdout",
          "text": [
            "              precision    recall  f1-score   support\n",
            "\n",
            "           0       0.82      0.91      0.87      1138\n",
            "           1       0.83      0.68      0.75       701\n",
            "\n",
            "    accuracy                           0.82      1839\n",
            "   macro avg       0.83      0.80      0.81      1839\n",
            "weighted avg       0.83      0.82      0.82      1839\n",
            "\n"
          ]
        }
      ]
    },
    {
      "cell_type": "code",
      "source": [
        "plt.figure(figsize=(5, 3))\n",
        "conf_matrix = confusion_matrix(test_y, pred_y, labels=labels.unique())\n",
        "sb.heatmap(conf_matrix, annot=True, fmt='g', cmap='YlOrRd')"
      ],
      "metadata": {
        "colab": {
          "base_uri": "https://localhost:8080/",
          "height": 308
        },
        "id": "YsRANJbXvteb",
        "outputId": "175885b4-8ec5-4c7c-fcb0-d66c4729fe98"
      },
      "execution_count": 179,
      "outputs": [
        {
          "output_type": "execute_result",
          "data": {
            "text/plain": [
              "<Axes: >"
            ]
          },
          "metadata": {},
          "execution_count": 179
        },
        {
          "output_type": "display_data",
          "data": {
            "text/plain": [
              "<Figure size 500x300 with 2 Axes>"
            ],
            "image/png": "[encoded data removed]"
          },
          "metadata": {}
        }
      ]
    },
    {
      "cell_type": "markdown",
      "source": [
        "### 3. SVM"
      ],
      "metadata": {
        "id": "Xsq3FAEXvx45"
      }
    },
    {
      "cell_type": "markdown",
      "source": [
        "Train"
      ],
      "metadata": {
        "id": "5Jq9k-Wbv2cE"
      }
    },
    {
      "cell_type": "code",
      "source": [
        "svm = Pipeline([\n",
        "                ('vectorize', CountVectorizer(max_df=0.8)),\n",
        "                ('feature extractor', TfidfTransformer()),\n",
        "                ('classifier', SVC(random_state=42))\n",
        "])\n",
        "\n",
        "start = time.time()\n",
        "svm.fit(train_x, train_y)\n",
        "print('Support Vector Machine training time:', (time.time() - start))"
      ],
      "metadata": {
        "colab": {
          "base_uri": "https://localhost:8080/"
        },
        "id": "-qWxVFcuvw3I",
        "outputId": "1efea116-0c33-4b34-df83-84b90ce76cd1"
      },
      "execution_count": 180,
      "outputs": [
        {
          "output_type": "stream",
          "name": "stdout",
          "text": [
            "Support Vector Machine training time: 6.281620264053345\n"
          ]
        }
      ]
    },
    {
      "cell_type": "markdown",
      "source": [
        "Đánh giá"
      ],
      "metadata": {
        "id": "IFUoQjnsv3nc"
      }
    },
    {
      "cell_type": "code",
      "source": [
        "pred_y = svm.predict(test_x)\n",
        "\n",
        "score = svm.score(test_x, test_y)\n",
        "print('SVM score: ', score)"
      ],
      "metadata": {
        "colab": {
          "base_uri": "https://localhost:8080/"
        },
        "id": "2Nr5vFWpv2An",
        "outputId": "4b1d034a-d338-4bfa-cfbb-c27b23b2b2dd"
      },
      "execution_count": 181,
      "outputs": [
        {
          "output_type": "stream",
          "name": "stdout",
          "text": [
            "SVM score:  0.8379554105492115\n"
          ]
        }
      ]
    },
    {
      "cell_type": "code",
      "source": [
        "print(classification_report(test_y, pred_y))"
      ],
      "metadata": {
        "colab": {
          "base_uri": "https://localhost:8080/"
        },
        "id": "bg1HE_rLv-Er",
        "outputId": "a04986af-8ed8-41e8-ddec-18e347fca50f"
      },
      "execution_count": 182,
      "outputs": [
        {
          "output_type": "stream",
          "name": "stdout",
          "text": [
            "              precision    recall  f1-score   support\n",
            "\n",
            "           0       0.85      0.90      0.87      1138\n",
            "           1       0.82      0.73      0.78       701\n",
            "\n",
            "    accuracy                           0.84      1839\n",
            "   macro avg       0.83      0.82      0.82      1839\n",
            "weighted avg       0.84      0.84      0.84      1839\n",
            "\n"
          ]
        }
      ]
    },
    {
      "cell_type": "code",
      "source": [
        "plt.figure(figsize=(5, 3))\n",
        "conf_matrix = confusion_matrix(test_y, pred_y, labels=labels.unique())\n",
        "sb.heatmap(conf_matrix, annot=True, fmt='g', cmap='YlOrRd')"
      ],
      "metadata": {
        "colab": {
          "base_uri": "https://localhost:8080/",
          "height": 308
        },
        "id": "gz4OITN6v_ib",
        "outputId": "8e07dc11-c131-42e4-afe6-469276dab950"
      },
      "execution_count": 183,
      "outputs": [
        {
          "output_type": "execute_result",
          "data": {
            "text/plain": [
              "<Axes: >"
            ]
          },
          "metadata": {},
          "execution_count": 183
        },
        {
          "output_type": "display_data",
          "data": {
            "text/plain": [
              "<Figure size 500x300 with 2 Axes>"
            ],
            "image/png": "[encoded data removed]"
          },
          "metadata": {}
        }
      ]
    },
    {
      "cell_type": "markdown",
      "source": [
        "# So sánh các mô hình"
      ],
      "metadata": {
        "id": "bGqc-O7Kwd6L"
      }
    },
    {
      "cell_type": "markdown",
      "source": [
        "| Mô hình              | Thời gian train (s) | Accuracy | F1-score (class 0) | F1-score (class 1)\n",
        "| -                    | -               | -        | -| -\n",
        "| Multiple Naive Bayes | 0            | 0.818    | 0.86| 0.74\n",
        "| Logistic Regression  | 0.316          | 0.825    | 0.87| 0.75\n",
        "| SVM                  | 6.282           | 0.838    | 0.87| 0.78"
      ],
      "metadata": {
        "id": "0O_vlNEKwgcK"
      }
    },
    {
      "cell_type": "markdown",
      "source": [
        "\n",
        "\n",
        "  *   Thời gian train: MNB có thời gian train nhanh nhất, SVM tốn nhiều thời gian train nhất\n",
        "  *   Accuracy: SVM đạt độ chính xác cao nhất\n",
        "  *   F1-score:\n",
        "1.   Class 0 (non_sarcastic): 3 mô hình cho kết quả tương đương nhau\n",
        "2.   Class 1 (is_sarcastic): SVM cho thấy sự hiệu quả hơn 2 mô hình kia khi có F1-score trên lớp thiểu số đạt 78%\n",
        "\n",
        "\n",
        "\n"
      ],
      "metadata": {
        "id": "tuD3aQI9w0kM"
      }
    },
    {
      "cell_type": "markdown",
      "source": [
        "# Thử nghiệm"
      ],
      "metadata": {
        "id": "xuJV06MFw_2t"
      }
    },
    {
      "cell_type": "markdown",
      "source": [
        "Tiền xử lí"
      ],
      "metadata": {
        "id": "-BU9RqYTxVFi"
      }
    },
    {
      "cell_type": "code",
      "source": [
        "def clean_text(text):\n",
        "  text = text_preprocessing(text)\n",
        "  text = remove_stopwords(text)\n",
        "  return text"
      ],
      "metadata": {
        "id": "lukKNzNgxBg4"
      },
      "execution_count": 184,
      "outputs": []
    },
    {
      "cell_type": "markdown",
      "source": [
        "Dự đoán bằng SVM"
      ],
      "metadata": {
        "id": "xtYNDCM8xYHK"
      }
    },
    {
      "cell_type": "code",
      "source": [
        "text = clean_text(input(\"Hãy nhập tiêu đề một bài báo hoặc tin tức: \"))\n",
        "print(\"Kết quả dự đoán tính châm biếm của tiêu đề:\", \"Có\" if svm.predict([text])[0]==1 else \"Không\")"
      ],
      "metadata": {
        "colab": {
          "base_uri": "https://localhost:8080/"
        },
        "id": "c531QktdxZ6v",
        "outputId": "67bbc515-5ce4-4f0f-dd4a-9303470525a8"
      },
      "execution_count": 194,
      "outputs": [
        {
          "output_type": "stream",
          "name": "stdout",
          "text": [
            "Hãy nhập tiêu đề một bài báo hoặc tin tức: Đời nghệ sĩ bạc bẽo lắm!\n",
            "Kết quả dự đoán tính châm biếm của tiêu đề: Có\n"
          ]
        }
      ]
    },
    {
      "cell_type": "code",
      "source": [
        "text = clean_text(input(\"Hãy nhập tiêu đề một bài báo hoặc tin tức: \"))\n",
        "print(\"Kết quả dự đoán tính châm biếm của tiêu đề:\", \"Có\" if svm.predict([text])[0]==1 else \"Không\")"
      ],
      "metadata": {
        "colab": {
          "base_uri": "https://localhost:8080/"
        },
        "id": "gRW5TQXa0j7U",
        "outputId": "f17eb8fd-794b-4562-b486-3201b178b1ac"
      },
      "execution_count": 195,
      "outputs": [
        {
          "output_type": "stream",
          "name": "stdout",
          "text": [
            "Hãy nhập tiêu đề một bài báo hoặc tin tức: BLACKPINK tổ chức concert ở Việt Nam vào tháng 7 tới\n",
            "Kết quả dự đoán tính châm biếm của tiêu đề: Không\n"
          ]
        }
      ]
    }
  ]
}